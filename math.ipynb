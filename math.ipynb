{
  "nbformat": 4,
  "nbformat_minor": 0,
  "metadata": {
    "colab": {
      "name": "math.ipynb",
      "provenance": []
    },
    "kernelspec": {
      "name": "python3",
      "display_name": "Python 3"
    },
    "language_info": {
      "name": "python"
    }
  },
  "cells": [
    {
      "cell_type": "code",
      "source": [
        "import numpy as np"
      ],
      "metadata": {
        "id": "M_Zvr7ViOzxn"
      },
      "execution_count": 2,
      "outputs": []
    },
    {
      "cell_type": "markdown",
      "source": [
        "## Aritmética básica"
      ],
      "metadata": {
        "id": "uqNDqAJYO6TY"
      }
    },
    {
      "cell_type": "code",
      "source": [
        "# Criando uma matriz\n",
        "arr = np.array([[1, 2], [3, 4]])\n",
        "print(\"Matriz: \", repr(arr))"
      ],
      "metadata": {
        "colab": {
          "base_uri": "https://localhost:8080/"
        },
        "id": "fsjTlQfEOrQS",
        "outputId": "8f786a74-56b6-4412-dd31-fccf2b987b10"
      },
      "execution_count": null,
      "outputs": [
        {
          "output_type": "stream",
          "name": "stdout",
          "text": [
            "Matriz:  array([[1, 2],\n",
            "       [3, 4]])\n"
          ]
        }
      ]
    },
    {
      "cell_type": "code",
      "execution_count": null,
      "metadata": {
        "colab": {
          "base_uri": "https://localhost:8080/"
        },
        "id": "ZTjeKDz1N4jl",
        "outputId": "426e0ce4-80bd-4b98-db34-6d3e58b4e188"
      },
      "outputs": [
        {
          "output_type": "stream",
          "name": "stdout",
          "text": [
            "array([[2, 3],\n",
            "       [4, 5]])\n"
          ]
        }
      ],
      "source": [
        "# Somando um para cada elemento na matriz\n",
        "print(repr(arr + 1))"
      ]
    },
    {
      "cell_type": "code",
      "source": [
        "# Subtraindo -1.2 de cada elemento na matriz\n",
        "print(repr(arr - 1.2))"
      ],
      "metadata": {
        "colab": {
          "base_uri": "https://localhost:8080/"
        },
        "id": "pv35dWYZN96i",
        "outputId": "d03a356c-693a-4e86-9074-484be126abc3"
      },
      "execution_count": null,
      "outputs": [
        {
          "output_type": "stream",
          "name": "stdout",
          "text": [
            "array([[-0.2,  0.8],\n",
            "       [ 1.8,  2.8]])\n"
          ]
        }
      ]
    },
    {
      "cell_type": "code",
      "source": [
        "# Dobrando cada elemento da matriz\n",
        "print(repr(arr * 2))"
      ],
      "metadata": {
        "colab": {
          "base_uri": "https://localhost:8080/"
        },
        "id": "ZXfPOCVUN_Z3",
        "outputId": "2b5ba84f-5ca5-4e37-e54f-c76ca4f55b29"
      },
      "execution_count": null,
      "outputs": [
        {
          "output_type": "stream",
          "name": "stdout",
          "text": [
            "array([[2, 4],\n",
            "       [6, 8]])\n"
          ]
        }
      ]
    },
    {
      "cell_type": "code",
      "source": [
        "# Divindo cada elemento da matriz\n",
        "print(repr(arr / 2))"
      ],
      "metadata": {
        "colab": {
          "base_uri": "https://localhost:8080/"
        },
        "id": "1rJDViX-OBCk",
        "outputId": "6853b5ec-e73d-42c2-d6e0-631c05f42ebb"
      },
      "execution_count": null,
      "outputs": [
        {
          "output_type": "stream",
          "name": "stdout",
          "text": [
            "array([[0.5, 1. ],\n",
            "       [1.5, 2. ]])\n"
          ]
        }
      ]
    },
    {
      "cell_type": "code",
      "source": [
        "# Valor inteiro para cada elemento na matriz\n",
        "print(repr(arr // 2))"
      ],
      "metadata": {
        "colab": {
          "base_uri": "https://localhost:8080/"
        },
        "id": "nZGKGtIUOEgx",
        "outputId": "672e7002-c258-48bf-dc7d-f180acda7494"
      },
      "execution_count": null,
      "outputs": [
        {
          "output_type": "stream",
          "name": "stdout",
          "text": [
            "array([[0, 1],\n",
            "       [1, 2]])\n"
          ]
        }
      ]
    },
    {
      "cell_type": "code",
      "source": [
        "# Elevando cada elemento da matriz ao quadrado\n",
        "print(repr(arr**2))"
      ],
      "metadata": {
        "colab": {
          "base_uri": "https://localhost:8080/"
        },
        "id": "r3VDacGxOGR3",
        "outputId": "ece98dfd-d339-42bb-f2ea-20ba28c1ec29"
      },
      "execution_count": null,
      "outputs": [
        {
          "output_type": "stream",
          "name": "stdout",
          "text": [
            "array([[ 1,  4],\n",
            "       [ 9, 16]])\n"
          ]
        }
      ]
    },
    {
      "cell_type": "code",
      "source": [
        "# Raiz quadrada de cada elemento da matriz\n",
        "print(repr(arr**0.5))"
      ],
      "metadata": {
        "colab": {
          "base_uri": "https://localhost:8080/"
        },
        "id": "iqZxGU0kOHm_",
        "outputId": "78e533d5-268f-4e29-8a82-a13ab4d776a5"
      },
      "execution_count": null,
      "outputs": [
        {
          "output_type": "stream",
          "name": "stdout",
          "text": [
            "array([[1.        , 1.41421356],\n",
            "       [1.73205081, 2.        ]])\n"
          ]
        }
      ]
    },
    {
      "cell_type": "markdown",
      "source": [
        "Convertendo Fahrenheit para Celsius"
      ],
      "metadata": {
        "id": "ZSZHiBznPqU4"
      }
    },
    {
      "cell_type": "code",
      "source": [
        "# Definindo uma função para converter os valores de Fahrenheit para Celsius\n",
        "def f2c(temps):\n",
        "  return (5/9)*(temps-32)\n",
        "\n",
        "# Criando uma matriz com valores em Fahrenheits\n",
        "fahrenheits = np.array([32, -4, 14, -40])\n",
        "print(\"Fahrenheits: \", repr(fahrenheits))\n",
        "celsius = f2c(fahrenheits)\n",
        "\n",
        "# Imprimindo um valor em Celsius:\n",
        "print('Celsius: {}'.format(repr(celsius)))"
      ],
      "metadata": {
        "colab": {
          "base_uri": "https://localhost:8080/"
        },
        "id": "xqKfEBYEPoHE",
        "outputId": "c487aedc-76df-4720-d974-e052893f4ff8"
      },
      "execution_count": null,
      "outputs": [
        {
          "output_type": "stream",
          "name": "stdout",
          "text": [
            "Fahrenheits:  array([ 32,  -4,  14, -40])\n",
            "Celsius: array([  0., -20., -10., -40.])\n"
          ]
        }
      ]
    },
    {
      "cell_type": "markdown",
      "source": [
        "# Non-Linear functions"
      ],
      "metadata": {
        "id": "Ekp6Qdp1QoIc"
      }
    },
    {
      "cell_type": "code",
      "source": [
        "# Criando a matriz do tipo inteiro (32 bits)\n",
        "arr = np.array([[1,2],[3,4]], dtype=np.int32)\n",
        "print('Array: ', repr(arr))"
      ],
      "metadata": {
        "colab": {
          "base_uri": "https://localhost:8080/"
        },
        "id": "boEU3WxiP4c_",
        "outputId": "1a6d42a1-b085-4add-b174-00ff88a8ba46"
      },
      "execution_count": null,
      "outputs": [
        {
          "output_type": "stream",
          "name": "stdout",
          "text": [
            "Array:  array([[1, 2],\n",
            "       [3, 4]], dtype=int32)\n"
          ]
        }
      ]
    },
    {
      "cell_type": "code",
      "source": [
        "# Elevando cada elemento contido na matriz a potência e\n",
        "exp = np.exp(arr)\n",
        "print(\"Matriz final: \", exp)"
      ],
      "metadata": {
        "colab": {
          "base_uri": "https://localhost:8080/"
        },
        "id": "brtkKkMUQwkY",
        "outputId": "81b117e0-a75b-4c51-a10b-58ef3e84bbd6"
      },
      "execution_count": null,
      "outputs": [
        {
          "output_type": "stream",
          "name": "stdout",
          "text": [
            "Matriz final:  [[ 2.71828183  7.3890561 ]\n",
            " [20.08553692 54.59815003]]\n"
          ]
        }
      ]
    },
    {
      "cell_type": "code",
      "source": [
        "# Elevando cada elemento contido na matri a potencia 2\n",
        "exp2 = np.exp2(arr)\n",
        "print(\"Matriz final: \", exp2)"
      ],
      "metadata": {
        "colab": {
          "base_uri": "https://localhost:8080/"
        },
        "id": "BSy7WeCRROcG",
        "outputId": "33948ef1-c541-420b-f743-da110aad159b"
      },
      "execution_count": null,
      "outputs": [
        {
          "output_type": "stream",
          "name": "stdout",
          "text": [
            "Matriz final:  [[ 2.  4.]\n",
            " [ 8. 16.]]\n"
          ]
        }
      ]
    },
    {
      "cell_type": "code",
      "source": [
        "# Criando uma matriz utilizando a biblioteca numpy para geração dos valores de euler e pi\n",
        "arr2 = np.array([[1,10],[np.e, np.pi]])\n",
        "print('Matriz: ', arr2)"
      ],
      "metadata": {
        "colab": {
          "base_uri": "https://localhost:8080/"
        },
        "id": "u2wpw47sRYHe",
        "outputId": "b77f2105-0c45-41cd-f1d5-99260c5234d5"
      },
      "execution_count": null,
      "outputs": [
        {
          "output_type": "stream",
          "name": "stdout",
          "text": [
            "Matriz:  [[ 1.         10.        ]\n",
            " [ 2.71828183  3.14159265]]\n"
          ]
        }
      ]
    },
    {
      "cell_type": "code",
      "source": [
        "# Usando Logaritmo\n",
        "print(repr(np.log(arr2)))\n",
        "print(repr(np.log10(arr2)))"
      ],
      "metadata": {
        "colab": {
          "base_uri": "https://localhost:8080/"
        },
        "id": "QWIrzu5ItUVJ",
        "outputId": "8e3750e0-a5ef-48bd-cb7b-c36294257d08"
      },
      "execution_count": 11,
      "outputs": [
        {
          "output_type": "stream",
          "name": "stdout",
          "text": [
            "array([[2.32238772, 1.38629436],\n",
            "       [1.09861229, 1.60943791]])\n",
            "array([[1.00860017, 0.60205999],\n",
            "       [0.47712125, 0.69897   ]])\n"
          ]
        }
      ]
    },
    {
      "cell_type": "code",
      "source": [
        "# Criando uma matriz \n",
        "arr = np.array([[1, 2], [3, 4]])\n",
        "print(repr(arr))"
      ],
      "metadata": {
        "id": "fWgY8fnRRc6H",
        "colab": {
          "base_uri": "https://localhost:8080/"
        },
        "outputId": "7d0f8b1e-b676-4e47-c53a-d543a2f07270"
      },
      "execution_count": 4,
      "outputs": [
        {
          "output_type": "stream",
          "name": "stdout",
          "text": [
            "array([[1, 2],\n",
            "       [3, 4]])\n"
          ]
        }
      ]
    },
    {
      "cell_type": "code",
      "source": [
        "# Elevando a matriz a potência 3\n",
        "print(repr(np.power(3, arr)))"
      ],
      "metadata": {
        "colab": {
          "base_uri": "https://localhost:8080/"
        },
        "id": "9d0E9VWor90x",
        "outputId": "3bcccb82-09b7-4aaa-99ae-a11d0259ad82"
      },
      "execution_count": 5,
      "outputs": [
        {
          "output_type": "stream",
          "name": "stdout",
          "text": [
            "array([[ 3,  9],\n",
            "       [27, 81]])\n"
          ]
        }
      ]
    },
    {
      "cell_type": "code",
      "source": [
        "# Elevando cada elemento de uma matriz pelo elemento de outra matriz\n",
        "arr2 = np.array([[10.2, 4], [3, 5]])\n",
        "print('Matriz 1: ', repr(arr))\n",
        "print('Matriz 2: ', repr(arr2))\n",
        "print('Resultado: ', np.power(arr, arr2))\n"
      ],
      "metadata": {
        "colab": {
          "base_uri": "https://localhost:8080/"
        },
        "id": "aro3tZNvsRzF",
        "outputId": "12382130-8062-473f-d14b-65131b320c59"
      },
      "execution_count": 10,
      "outputs": [
        {
          "output_type": "stream",
          "name": "stdout",
          "text": [
            "Matriz 1:  array([[1, 2],\n",
            "       [3, 4]])\n",
            "Matriz 2:  array([[10.2,  4. ],\n",
            "       [ 3. ,  5. ]])\n",
            "Resultado:  [[1.000e+00 1.600e+01]\n",
            " [2.700e+01 1.024e+03]]\n"
          ]
        }
      ]
    },
    {
      "cell_type": "markdown",
      "source": [
        "# Exercícios"
      ],
      "metadata": {
        "id": "ShiQTE9qtpIR"
      }
    },
    {
      "cell_type": "markdown",
      "source": [
        "Exercício"
      ],
      "metadata": {
        "id": "3fVLmT2ouoOO"
      }
    },
    {
      "cell_type": "code",
      "source": [
        "# Criando a primeira matriz\n",
        "arr = np.array([[-0.5, 0.8, -0.1], \n",
        "                [0.0, -1.2, 1.3]])\n",
        "\n",
        "# Criando a segunda matriz\n",
        "arr2 = np.array([[1.2, 3.1], \n",
        "                 [1.2, 0.3],\n",
        "                 [1.5, 2.2]])"
      ],
      "metadata": {
        "id": "2SWxZOszs53U"
      },
      "execution_count": 13,
      "outputs": []
    },
    {
      "cell_type": "markdown",
      "source": [
        "Exercício 2"
      ],
      "metadata": {
        "id": "XhIi1yBvupxP"
      }
    },
    {
      "cell_type": "code",
      "source": [
        "# Efetuando a multiplicação de cada elemento da matriz por pi\n",
        "multiplied = arr * np.pi\n",
        "print(repr(arr))"
      ],
      "metadata": {
        "colab": {
          "base_uri": "https://localhost:8080/"
        },
        "id": "TXNccRUHuYho",
        "outputId": "35098f61-ddff-4695-e92c-927be0e6669c"
      },
      "execution_count": 15,
      "outputs": [
        {
          "output_type": "stream",
          "name": "stdout",
          "text": [
            "array([[-0.5,  0.8, -0.1],\n",
            "       [ 0. , -1.2,  1.3]])\n"
          ]
        }
      ]
    },
    {
      "cell_type": "code",
      "source": [
        "# Efeuando a soma de matrizes\n",
        "added = arr + multiplied\n",
        "print(repr(added))"
      ],
      "metadata": {
        "colab": {
          "base_uri": "https://localhost:8080/"
        },
        "id": "3_a0ssjAvA4W",
        "outputId": "4d1219a2-5521-4517-b9e0-c997196bf2ed"
      },
      "execution_count": 17,
      "outputs": [
        {
          "output_type": "stream",
          "name": "stdout",
          "text": [
            "array([[-2.07079633,  3.31327412, -0.41415927],\n",
            "       [ 0.        , -4.96991118,  5.38407045]])\n"
          ]
        }
      ]
    },
    {
      "cell_type": "code",
      "source": [
        "# Elevando cada elemento da matriz ao quadrado\n",
        "squared = np.power(added, 2)\n",
        "print(repr(squared))"
      ],
      "metadata": {
        "colab": {
          "base_uri": "https://localhost:8080/"
        },
        "id": "NZV0Nw3TuwZo",
        "outputId": "7ef5748f-639c-4f53-c52a-f3fe8b3393f6"
      },
      "execution_count": 23,
      "outputs": [
        {
          "output_type": "stream",
          "name": "stdout",
          "text": [
            "array([[ 4.28819743, 10.97778541,  0.1715279 ],\n",
            "       [ 0.        , 24.70001718, 28.98821461]])\n"
          ]
        }
      ]
    },
    {
      "cell_type": "markdown",
      "source": [
        "Exercício 3"
      ],
      "metadata": {
        "id": "yZGDuz3HvpYE"
      }
    },
    {
      "cell_type": "code",
      "source": [
        "exponential = np.exp(squared)\n",
        "print(repr(exponential))"
      ],
      "metadata": {
        "colab": {
          "base_uri": "https://localhost:8080/"
        },
        "id": "W1usGuMFvbdn",
        "outputId": "46274cba-bd30-4ac2-8aa9-06eb5fa38516"
      },
      "execution_count": 24,
      "outputs": [
        {
          "output_type": "stream",
          "name": "stdout",
          "text": [
            "array([[7.28350596e+01, 5.85587272e+04, 1.18711726e+00],\n",
            "       [1.00000000e+00, 5.33434578e+10, 3.88527393e+12]])\n"
          ]
        }
      ]
    },
    {
      "cell_type": "code",
      "source": [
        "logged = np.log(arr2)\n",
        "print(repr(arr2))"
      ],
      "metadata": {
        "colab": {
          "base_uri": "https://localhost:8080/"
        },
        "id": "J-HnS1n1vwsX",
        "outputId": "aea241b2-aae0-4382-c478-7e788ce418f8"
      },
      "execution_count": 25,
      "outputs": [
        {
          "output_type": "stream",
          "name": "stdout",
          "text": [
            "array([[1.2, 3.1],\n",
            "       [1.2, 0.3],\n",
            "       [1.5, 2.2]])\n"
          ]
        }
      ]
    },
    {
      "cell_type": "markdown",
      "source": [
        "Exercício 4"
      ],
      "metadata": {
        "id": "yQUVjgfjwJuz"
      }
    },
    {
      "cell_type": "code",
      "source": [
        "# Efetuando a multiplicacao de matrizes\n",
        "matmul1 = np.matmul(logged, exponential)\n",
        "print(repr(matmul1))"
      ],
      "metadata": {
        "colab": {
          "base_uri": "https://localhost:8080/"
        },
        "id": "KqsaNXQ2v3Rl",
        "outputId": "a33c10f8-eeee-4658-83d6-fdc61a2ea09a"
      },
      "execution_count": 32,
      "outputs": [
        {
          "output_type": "stream",
          "name": "stdout",
          "text": [
            "array([[ 1.44108036e+01,  6.03529115e+10,  4.39580713e+12],\n",
            "       [ 1.20754286e+01, -6.42240618e+10, -4.67776415e+12],\n",
            "       [ 3.03205327e+01,  4.20590657e+10,  3.06337283e+12]])\n"
          ]
        }
      ]
    },
    {
      "cell_type": "code",
      "source": [
        "# Efetuando a multiplicacao de matrizes 2\n",
        "matmul2 = np.matmul(exponential, logged)\n",
        "print(repr(matmul2))"
      ],
      "metadata": {
        "colab": {
          "base_uri": "https://localhost:8080/"
        },
        "id": "d2xA_ftvw1pp",
        "outputId": "bafeca73-6a42-41ef-cc88-84818f8c764e"
      },
      "execution_count": 33,
      "outputs": [
        {
          "output_type": "stream",
          "name": "stdout",
          "text": [
            "array([[ 1.06902790e+04, -7.04197733e+04],\n",
            "       [ 1.58506868e+12,  2.99914875e+12]])\n"
          ]
        }
      ]
    },
    {
      "cell_type": "code",
      "source": [
        ""
      ],
      "metadata": {
        "id": "Fa65y33yxMvl"
      },
      "execution_count": null,
      "outputs": []
    }
  ]
}