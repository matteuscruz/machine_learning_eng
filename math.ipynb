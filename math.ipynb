{
  "nbformat": 4,
  "nbformat_minor": 0,
  "metadata": {
    "colab": {
      "name": "math.ipynb",
      "provenance": []
    },
    "kernelspec": {
      "name": "python3",
      "display_name": "Python 3"
    },
    "language_info": {
      "name": "python"
    }
  },
  "cells": [
    {
      "cell_type": "code",
      "source": [
        "import numpy as np"
      ],
      "metadata": {
        "id": "M_Zvr7ViOzxn"
      },
      "execution_count": 2,
      "outputs": []
    },
    {
      "cell_type": "markdown",
      "source": [
        "## Aritmética básica"
      ],
      "metadata": {
        "id": "uqNDqAJYO6TY"
      }
    },
    {
      "cell_type": "code",
      "source": [
        "# Criando uma matriz\n",
        "arr = np.array([[1, 2], [3, 4]])\n",
        "print(\"Matriz: \", repr(arr))"
      ],
      "metadata": {
        "colab": {
          "base_uri": "https://localhost:8080/"
        },
        "id": "fsjTlQfEOrQS",
        "outputId": "8f786a74-56b6-4412-dd31-fccf2b987b10"
      },
      "execution_count": 4,
      "outputs": [
        {
          "output_type": "stream",
          "name": "stdout",
          "text": [
            "Matriz:  array([[1, 2],\n",
            "       [3, 4]])\n"
          ]
        }
      ]
    },
    {
      "cell_type": "code",
      "execution_count": 5,
      "metadata": {
        "colab": {
          "base_uri": "https://localhost:8080/"
        },
        "id": "ZTjeKDz1N4jl",
        "outputId": "426e0ce4-80bd-4b98-db34-6d3e58b4e188"
      },
      "outputs": [
        {
          "output_type": "stream",
          "name": "stdout",
          "text": [
            "array([[2, 3],\n",
            "       [4, 5]])\n"
          ]
        }
      ],
      "source": [
        "# Somando um para cada elemento na matriz\n",
        "print(repr(arr + 1))"
      ]
    },
    {
      "cell_type": "code",
      "source": [
        "# Subtraindo -1.2 de cada elemento na matriz\n",
        "print(repr(arr - 1.2))"
      ],
      "metadata": {
        "colab": {
          "base_uri": "https://localhost:8080/"
        },
        "id": "pv35dWYZN96i",
        "outputId": "d03a356c-693a-4e86-9074-484be126abc3"
      },
      "execution_count": 6,
      "outputs": [
        {
          "output_type": "stream",
          "name": "stdout",
          "text": [
            "array([[-0.2,  0.8],\n",
            "       [ 1.8,  2.8]])\n"
          ]
        }
      ]
    },
    {
      "cell_type": "code",
      "source": [
        "# Dobrando cada elemento da matriz\n",
        "print(repr(arr * 2))"
      ],
      "metadata": {
        "colab": {
          "base_uri": "https://localhost:8080/"
        },
        "id": "ZXfPOCVUN_Z3",
        "outputId": "2b5ba84f-5ca5-4e37-e54f-c76ca4f55b29"
      },
      "execution_count": 7,
      "outputs": [
        {
          "output_type": "stream",
          "name": "stdout",
          "text": [
            "array([[2, 4],\n",
            "       [6, 8]])\n"
          ]
        }
      ]
    },
    {
      "cell_type": "code",
      "source": [
        "# Divindo cada elemento da matriz\n",
        "print(repr(arr / 2))"
      ],
      "metadata": {
        "colab": {
          "base_uri": "https://localhost:8080/"
        },
        "id": "1rJDViX-OBCk",
        "outputId": "6853b5ec-e73d-42c2-d6e0-631c05f42ebb"
      },
      "execution_count": 8,
      "outputs": [
        {
          "output_type": "stream",
          "name": "stdout",
          "text": [
            "array([[0.5, 1. ],\n",
            "       [1.5, 2. ]])\n"
          ]
        }
      ]
    },
    {
      "cell_type": "code",
      "source": [
        "# Valor inteiro para cada elemento na matriz\n",
        "print(repr(arr // 2))"
      ],
      "metadata": {
        "colab": {
          "base_uri": "https://localhost:8080/"
        },
        "id": "nZGKGtIUOEgx",
        "outputId": "672e7002-c258-48bf-dc7d-f180acda7494"
      },
      "execution_count": 9,
      "outputs": [
        {
          "output_type": "stream",
          "name": "stdout",
          "text": [
            "array([[0, 1],\n",
            "       [1, 2]])\n"
          ]
        }
      ]
    },
    {
      "cell_type": "code",
      "source": [
        "# Elevando cada elemento da matriz ao quadrado\n",
        "print(repr(arr**2))"
      ],
      "metadata": {
        "colab": {
          "base_uri": "https://localhost:8080/"
        },
        "id": "r3VDacGxOGR3",
        "outputId": "ece98dfd-d339-42bb-f2ea-20ba28c1ec29"
      },
      "execution_count": 10,
      "outputs": [
        {
          "output_type": "stream",
          "name": "stdout",
          "text": [
            "array([[ 1,  4],\n",
            "       [ 9, 16]])\n"
          ]
        }
      ]
    },
    {
      "cell_type": "code",
      "source": [
        "# Raiz quadrada de cada elemento da matriz\n",
        "print(repr(arr**0.5))"
      ],
      "metadata": {
        "colab": {
          "base_uri": "https://localhost:8080/"
        },
        "id": "iqZxGU0kOHm_",
        "outputId": "78e533d5-268f-4e29-8a82-a13ab4d776a5"
      },
      "execution_count": 11,
      "outputs": [
        {
          "output_type": "stream",
          "name": "stdout",
          "text": [
            "array([[1.        , 1.41421356],\n",
            "       [1.73205081, 2.        ]])\n"
          ]
        }
      ]
    },
    {
      "cell_type": "markdown",
      "source": [
        "Convertendo Fahrenheit para Celsius"
      ],
      "metadata": {
        "id": "ZSZHiBznPqU4"
      }
    },
    {
      "cell_type": "code",
      "source": [
        "# Definindo uma função para converter os valores de Fahrenheit para Celsius\n",
        "def f2c(temps):\n",
        "  return (5/9)*(temps-32)\n",
        "\n",
        "# Criando uma matriz com valores em Fahrenheits\n",
        "fahrenheits = np.array([32, -4, 14, -40])\n",
        "print(\"Fahrenheits: \", repr(fahrenheits))\n",
        "celsius = f2c(fahrenheits)\n",
        "\n",
        "# Imprimindo um valor em Celsius:\n",
        "print('Celsius: {}'.format(repr(celsius)))"
      ],
      "metadata": {
        "colab": {
          "base_uri": "https://localhost:8080/"
        },
        "id": "xqKfEBYEPoHE",
        "outputId": "c487aedc-76df-4720-d974-e052893f4ff8"
      },
      "execution_count": 14,
      "outputs": [
        {
          "output_type": "stream",
          "name": "stdout",
          "text": [
            "Fahrenheits:  array([ 32,  -4,  14, -40])\n",
            "Celsius: array([  0., -20., -10., -40.])\n"
          ]
        }
      ]
    },
    {
      "cell_type": "markdown",
      "source": [
        "# Non-Linear functions"
      ],
      "metadata": {
        "id": "Ekp6Qdp1QoIc"
      }
    },
    {
      "cell_type": "code",
      "source": [
        "# Criando a matriz do tipo inteiro (32 bits)\n",
        "arr = np.array([[1,2],[3,4]], dtype=np.int32)\n",
        "print('Array: ', repr(arr))"
      ],
      "metadata": {
        "colab": {
          "base_uri": "https://localhost:8080/"
        },
        "id": "boEU3WxiP4c_",
        "outputId": "1a6d42a1-b085-4add-b174-00ff88a8ba46"
      },
      "execution_count": 18,
      "outputs": [
        {
          "output_type": "stream",
          "name": "stdout",
          "text": [
            "Array:  array([[1, 2],\n",
            "       [3, 4]], dtype=int32)\n"
          ]
        }
      ]
    },
    {
      "cell_type": "code",
      "source": [
        "# Elevando cada elemento contido na matriz a potência e\n",
        "exp = np.exp(arr)\n",
        "print(\"Matriz final: \", exp)"
      ],
      "metadata": {
        "colab": {
          "base_uri": "https://localhost:8080/"
        },
        "id": "brtkKkMUQwkY",
        "outputId": "81b117e0-a75b-4c51-a10b-58ef3e84bbd6"
      },
      "execution_count": 19,
      "outputs": [
        {
          "output_type": "stream",
          "name": "stdout",
          "text": [
            "Matriz final:  [[ 2.71828183  7.3890561 ]\n",
            " [20.08553692 54.59815003]]\n"
          ]
        }
      ]
    },
    {
      "cell_type": "code",
      "source": [
        "# Elevando cada elemento contido na matri a potencia 2\n",
        "exp2 = np.exp2(arr)\n",
        "print(\"Matriz final: \", exp2)"
      ],
      "metadata": {
        "colab": {
          "base_uri": "https://localhost:8080/"
        },
        "id": "BSy7WeCRROcG",
        "outputId": "33948ef1-c541-420b-f743-da110aad159b"
      },
      "execution_count": 21,
      "outputs": [
        {
          "output_type": "stream",
          "name": "stdout",
          "text": [
            "Matriz final:  [[ 2.  4.]\n",
            " [ 8. 16.]]\n"
          ]
        }
      ]
    },
    {
      "cell_type": "code",
      "source": [
        "# Criando uma matriz utilizando a biblioteca numpy para geração dos valores de euler e pi\n",
        "arr2 = np.array([[1,10],[np.e, np.pi]])\n",
        "print('Matriz: ', arr2)"
      ],
      "metadata": {
        "colab": {
          "base_uri": "https://localhost:8080/"
        },
        "id": "u2wpw47sRYHe",
        "outputId": "b77f2105-0c45-41cd-f1d5-99260c5234d5"
      },
      "execution_count": 26,
      "outputs": [
        {
          "output_type": "stream",
          "name": "stdout",
          "text": [
            "Matriz:  [[ 1.         10.        ]\n",
            " [ 2.71828183  3.14159265]]\n"
          ]
        }
      ]
    },
    {
      "cell_type": "code",
      "source": [
        "arr = "
      ],
      "metadata": {
        "id": "fWgY8fnRRc6H"
      },
      "execution_count": null,
      "outputs": []
    }
  ]
}