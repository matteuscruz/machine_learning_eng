{
  "nbformat": 4,
  "nbformat_minor": 0,
  "metadata": {
    "colab": {
      "name": "numpy_basics.ipynb",
      "provenance": []
    },
    "kernelspec": {
      "name": "python3",
      "display_name": "Python 3"
    },
    "language_info": {
      "name": "python"
    }
  },
  "cells": [
    {
      "cell_type": "code",
      "source": [
        "import numpy as np"
      ],
      "metadata": {
        "id": "2Rr4Kzbb_Xxi"
      },
      "execution_count": null,
      "outputs": []
    },
    {
      "cell_type": "markdown",
      "source": [
        "## Ranged data"
      ],
      "metadata": {
        "id": "dXNCNg8j_KvX"
      }
    },
    {
      "cell_type": "markdown",
      "source": [
        "Criando um vetor com a função 'range' da biblioteca numpy\n"
      ],
      "metadata": {
        "id": "k2-HOk9r_hSo"
      }
    },
    {
      "cell_type": "code",
      "execution_count": null,
      "metadata": {
        "colab": {
          "base_uri": "https://localhost:8080/"
        },
        "id": "Df2tgN52_CtX",
        "outputId": "43114737-5a15-4ffc-9315-0823fd25ce41"
      },
      "outputs": [
        {
          "output_type": "stream",
          "name": "stdout",
          "text": [
            "array([0, 1, 2, 3, 4])\n"
          ]
        }
      ],
      "source": [
        "arr = np.arange(5) #  '5' é a quantidade de valores em um intervalo de 0 à 5\n",
        "print(repr(arr))"
      ]
    },
    {
      "cell_type": "code",
      "source": [
        "arr = np.arange(5.1) # '5' é quantidade de valores, porém agora em String\n",
        "print(repr(arr))"
      ],
      "metadata": {
        "colab": {
          "base_uri": "https://localhost:8080/"
        },
        "id": "PFO1PDg8_Wod",
        "outputId": "38cb0563-5405-4d6f-a14f-1b7e6542f532"
      },
      "execution_count": null,
      "outputs": [
        {
          "output_type": "stream",
          "name": "stdout",
          "text": [
            "array([0., 1., 2., 3., 4., 5.])\n"
          ]
        }
      ]
    },
    {
      "cell_type": "code",
      "source": [
        "arr = np.arange(-1, 4) # Inserindo dois argumentos é possível mudar o intervalor de valores gerados\n",
        "print(repr(arr))"
      ],
      "metadata": {
        "colab": {
          "base_uri": "https://localhost:8080/"
        },
        "id": "1GvT8koD_mxn",
        "outputId": "5213305e-944e-4f3f-d9ae-198f7aca48fe"
      },
      "execution_count": null,
      "outputs": [
        {
          "output_type": "stream",
          "name": "stdout",
          "text": [
            "array([-1,  0,  1,  2,  3])\n"
          ]
        }
      ]
    },
    {
      "cell_type": "code",
      "source": [
        "arr = np.linspace(5, 11, num=4)\n",
        "print(repr(arr))"
      ],
      "metadata": {
        "colab": {
          "base_uri": "https://localhost:8080/"
        },
        "id": "shbNGpsG_uf9",
        "outputId": "32932a35-b977-4507-b242-bc0a798f6c2f"
      },
      "execution_count": null,
      "outputs": [
        {
          "output_type": "stream",
          "name": "stdout",
          "text": [
            "array([ 5.,  7.,  9., 11.])\n"
          ]
        }
      ]
    },
    {
      "cell_type": "code",
      "source": [
        "arr = np.linspace(5, 11, num=4, endpoint=False)\n",
        "print(repr(arr))"
      ],
      "metadata": {
        "colab": {
          "base_uri": "https://localhost:8080/"
        },
        "id": "AXyTb2_GAcWX",
        "outputId": "7952502f-324c-4e04-fcfd-f0bdc2e6fcc9"
      },
      "execution_count": null,
      "outputs": [
        {
          "output_type": "stream",
          "name": "stdout",
          "text": [
            "array([5. , 6.5, 8. , 9.5])\n"
          ]
        }
      ]
    },
    {
      "cell_type": "code",
      "source": [
        "arr = np.linspace(5, 11, num=4, dtype=np.int32)\n",
        "print(repr(arr))"
      ],
      "metadata": {
        "colab": {
          "base_uri": "https://localhost:8080/"
        },
        "id": "X9i92CbaAqKC",
        "outputId": "a69cd246-00df-42a5-9ef2-7cf3124e68ea"
      },
      "execution_count": null,
      "outputs": [
        {
          "output_type": "stream",
          "name": "stdout",
          "text": [
            "array([5, 6, 8, 9], dtype=int32)\n"
          ]
        }
      ]
    },
    {
      "cell_type": "markdown",
      "source": [
        "## Reshape"
      ],
      "metadata": {
        "id": "4y5nAUTjA9fo"
      }
    },
    {
      "cell_type": "code",
      "source": [
        "arr = np.arange(8)\n",
        "print(repr(arr))"
      ],
      "metadata": {
        "colab": {
          "base_uri": "https://localhost:8080/"
        },
        "id": "F9XALN2OAycx",
        "outputId": "ec050649-efae-4660-f08e-e95e17e7b9ea"
      },
      "execution_count": null,
      "outputs": [
        {
          "output_type": "stream",
          "name": "stdout",
          "text": [
            "array([0, 1, 2, 3, 4, 5, 6, 7])\n"
          ]
        }
      ]
    },
    {
      "cell_type": "code",
      "source": [
        "reshaped_arr = np.reshape(arr, (2, 4)) # Transformando o vetor em uma matriz\n",
        "print(repr(reshaped_arr))"
      ],
      "metadata": {
        "colab": {
          "base_uri": "https://localhost:8080/"
        },
        "id": "jYifFSegBB79",
        "outputId": "a1f3c184-1677-41fb-a65d-12e985c064f6"
      },
      "execution_count": null,
      "outputs": [
        {
          "output_type": "stream",
          "name": "stdout",
          "text": [
            "array([[0, 1, 2, 3],\n",
            "       [4, 5, 6, 7]])\n"
          ]
        }
      ]
    },
    {
      "cell_type": "code",
      "source": [
        "reshaped_arr = np.reshape(arr, (-1, 2, 2))\n",
        "print(repr(reshaped_arr))"
      ],
      "metadata": {
        "colab": {
          "base_uri": "https://localhost:8080/"
        },
        "id": "WLpCu3skBIYk",
        "outputId": "c0cea4d3-6b34-4786-b290-9076f5d82d65"
      },
      "execution_count": null,
      "outputs": [
        {
          "output_type": "stream",
          "name": "stdout",
          "text": [
            "array([[[0, 1],\n",
            "        [2, 3]],\n",
            "\n",
            "       [[4, 5],\n",
            "        [6, 7]]])\n"
          ]
        }
      ]
    },
    {
      "cell_type": "code",
      "source": [
        "arr = np.arange(8)\n",
        "arr = np.reshape(arr, (2,4))  # Tranforma o vetor em matriz 2x4\n",
        "flattened = arr.flatten() # Transforma a matriz 2x4 em um vetor\n",
        "print('Reshaped array: ',  arr)\n",
        "print('Flattened array: ', flattened)"
      ],
      "metadata": {
        "colab": {
          "base_uri": "https://localhost:8080/"
        },
        "id": "yNZHeckGBcS2",
        "outputId": "fd3d81db-6715-453a-885f-fca3e8654101"
      },
      "execution_count": null,
      "outputs": [
        {
          "output_type": "stream",
          "name": "stdout",
          "text": [
            "Reshaped array:  [[0 1 2 3]\n",
            " [4 5 6 7]]\n",
            "Flattened array:  [0 1 2 3 4 5 6 7]\n"
          ]
        }
      ]
    },
    {
      "cell_type": "markdown",
      "source": [
        "## Transposing"
      ],
      "metadata": {
        "id": "EfGFE1sBCILC"
      }
    },
    {
      "cell_type": "code",
      "source": [
        "arr = np.arange(8)\n",
        "arr = np.reshape(arr, (2, 4))\n",
        "transposed = np.transpose(arr)\n",
        "print('Array: ', repr(arr))\n",
        "print('Transposed array: ', repr(transposed)) "
      ],
      "metadata": {
        "colab": {
          "base_uri": "https://localhost:8080/"
        },
        "id": "QltSZsX4B_cK",
        "outputId": "d77e3ceb-15b7-4112-ecff-d5a556dfe1d4"
      },
      "execution_count": null,
      "outputs": [
        {
          "output_type": "stream",
          "name": "stdout",
          "text": [
            "Array:  array([[0, 1, 2, 3],\n",
            "       [4, 5, 6, 7]])\n",
            "Transposed array:  array([[0, 4],\n",
            "       [1, 5],\n",
            "       [2, 6],\n",
            "       [3, 7]])\n"
          ]
        }
      ]
    },
    {
      "cell_type": "code",
      "source": [
        "arr = np.arange(24)\n",
        "arr = np.reshape(arr, (3,4,2))\n",
        "transposed = np.transpose(arr, axes=(1,2,0))\n",
        "print('Array: ', repr(arr))\n",
        "print('Transposed: ', repr(transposed))"
      ],
      "metadata": {
        "colab": {
          "base_uri": "https://localhost:8080/"
        },
        "id": "ZTi7fFcNCeYv",
        "outputId": "343edd44-9c69-45c4-af57-abd0616af856"
      },
      "execution_count": null,
      "outputs": [
        {
          "output_type": "stream",
          "name": "stdout",
          "text": [
            "Array:  array([[[ 0,  1],\n",
            "        [ 2,  3],\n",
            "        [ 4,  5],\n",
            "        [ 6,  7]],\n",
            "\n",
            "       [[ 8,  9],\n",
            "        [10, 11],\n",
            "        [12, 13],\n",
            "        [14, 15]],\n",
            "\n",
            "       [[16, 17],\n",
            "        [18, 19],\n",
            "        [20, 21],\n",
            "        [22, 23]]])\n",
            "Transposed:  array([[[ 0,  8, 16],\n",
            "        [ 1,  9, 17]],\n",
            "\n",
            "       [[ 2, 10, 18],\n",
            "        [ 3, 11, 19]],\n",
            "\n",
            "       [[ 4, 12, 20],\n",
            "        [ 5, 13, 21]],\n",
            "\n",
            "       [[ 6, 14, 22],\n",
            "        [ 7, 15, 23]]])\n"
          ]
        }
      ]
    },
    {
      "cell_type": "markdown",
      "source": [
        "## Zeros and ones"
      ],
      "metadata": {
        "id": "zQo4ky2dDt7R"
      }
    },
    {
      "cell_type": "code",
      "source": [
        "arr = np.array([[1 ,2],\n",
        "               [3, 4]])\n",
        "print('Array: ', repr(arr))"
      ],
      "metadata": {
        "id": "ZVEGxfyKDtWD",
        "colab": {
          "base_uri": "https://localhost:8080/"
        },
        "outputId": "cfe8a1b6-02b9-4fa2-baf3-416e25f2f24e"
      },
      "execution_count": 29,
      "outputs": [
        {
          "output_type": "stream",
          "name": "stdout",
          "text": [
            "Array:  array([[1, 2],\n",
            "       [3, 4]])\n"
          ]
        }
      ]
    },
    {
      "cell_type": "code",
      "source": [
        "arr = np.array([[0., 1.], [1.2, 4.]])\n",
        "print(repr(np.ones_like(arr)))"
      ],
      "metadata": {
        "id": "L1rQLv_zDb5s",
        "colab": {
          "base_uri": "https://localhost:8080/"
        },
        "outputId": "7779c366-be1b-440a-b50d-d67dc2282c08"
      },
      "execution_count": 30,
      "outputs": [
        {
          "output_type": "stream",
          "name": "stdout",
          "text": [
            "array([[1., 1.],\n",
            "       [1., 1.]])\n"
          ]
        }
      ]
    },
    {
      "cell_type": "markdown",
      "source": [
        "## Exercícios"
      ],
      "metadata": {
        "id": "d3ROdQZAGDes"
      }
    },
    {
      "cell_type": "markdown",
      "source": [
        "#### Exercício 1"
      ],
      "metadata": {
        "id": "KAKkPRnDGPvm"
      }
    },
    {
      "cell_type": "code",
      "source": [
        "# Desenvolvendo o vetor\n",
        "arr = np.arange(12)\n",
        "print(repr(arr))"
      ],
      "metadata": {
        "colab": {
          "base_uri": "https://localhost:8080/"
        },
        "id": "4TZgeY6NF-u2",
        "outputId": "d82777d1-6869-4913-c7b9-c2392722bfc5"
      },
      "execution_count": 32,
      "outputs": [
        {
          "output_type": "stream",
          "name": "stdout",
          "text": [
            "array([ 0,  1,  2,  3,  4,  5,  6,  7,  8,  9, 10, 11])\n"
          ]
        }
      ]
    },
    {
      "cell_type": "code",
      "source": [
        "# Transformando o vetor em matriz\n",
        "reshaped = np.reshape(arr, (2, 3, 2))\n",
        "print(repr(reshaped))"
      ],
      "metadata": {
        "colab": {
          "base_uri": "https://localhost:8080/"
        },
        "id": "GXI0OzJaGJnO",
        "outputId": "1a35be5f-ef3d-4d0e-add3-df50806ce62c"
      },
      "execution_count": 33,
      "outputs": [
        {
          "output_type": "stream",
          "name": "stdout",
          "text": [
            "array([[[ 0,  1],\n",
            "        [ 2,  3],\n",
            "        [ 4,  5]],\n",
            "\n",
            "       [[ 6,  7],\n",
            "        [ 8,  9],\n",
            "        [10, 11]]])\n"
          ]
        }
      ]
    },
    {
      "cell_type": "markdown",
      "source": [
        "#### Exercício 2"
      ],
      "metadata": {
        "id": "0Y3CDXfiGxdK"
      }
    },
    {
      "cell_type": "code",
      "source": [
        "# Fazendo a tranposta do vetor\n",
        "transposed = np.transpose(reshaped, axes=(1, 2, 0))\n",
        "print('Transposed: ', repr(transposed))"
      ],
      "metadata": {
        "colab": {
          "base_uri": "https://localhost:8080/"
        },
        "id": "1BhHkgSLHZgJ",
        "outputId": "9b0dc496-9546-4b46-c7a3-5b8be2a1f9ec"
      },
      "execution_count": 40,
      "outputs": [
        {
          "output_type": "stream",
          "name": "stdout",
          "text": [
            "Transposed:  array([[[ 0,  6],\n",
            "        [ 1,  7]],\n",
            "\n",
            "       [[ 2,  8],\n",
            "        [ 3,  9]],\n",
            "\n",
            "       [[ 4, 10],\n",
            "        [ 5, 11]]])\n"
          ]
        }
      ]
    },
    {
      "cell_type": "code",
      "source": [
        "# Transformando a matriz em vetor\n",
        "flattened = reshaped.flatten()\n",
        "print('Flattened: ', flattened)"
      ],
      "metadata": {
        "colab": {
          "base_uri": "https://localhost:8080/"
        },
        "id": "tmxXyu0pGlr-",
        "outputId": "ea856ba3-0af6-462e-a1e3-607dc9b2507d"
      },
      "execution_count": 35,
      "outputs": [
        {
          "output_type": "stream",
          "name": "stdout",
          "text": [
            "Flattened:  [ 0  1  2  3  4  5  6  7  8  9 10 11]\n"
          ]
        }
      ]
    },
    {
      "cell_type": "code",
      "source": [
        "# Fazendo a tranposta da matriz\n",
        "transposed = np.transpose(reshaped, axes = (1, 2, 0))\n",
        "print('Transposed: ', repr(transposed))"
      ],
      "metadata": {
        "colab": {
          "base_uri": "https://localhost:8080/"
        },
        "id": "wS8lY14oH1-K",
        "outputId": "701ed7f7-24b3-4e39-fbd6-e62bb9bfd296"
      },
      "execution_count": 42,
      "outputs": [
        {
          "output_type": "stream",
          "name": "stdout",
          "text": [
            "Transposed:  array([[[ 0,  6],\n",
            "        [ 1,  7]],\n",
            "\n",
            "       [[ 2,  8],\n",
            "        [ 3,  9]],\n",
            "\n",
            "       [[ 4, 10],\n",
            "        [ 5, 11]]])\n"
          ]
        }
      ]
    },
    {
      "cell_type": "markdown",
      "source": [
        "#### Exercício 3"
      ],
      "metadata": {
        "id": "fLY86twaI2u4"
      }
    },
    {
      "cell_type": "code",
      "source": [
        "# Criando um vetor de zeros\n",
        "zeros_arr = np.zeros(5)\n",
        "print('Vetor de zeros: ', repr(zeros_arr))"
      ],
      "metadata": {
        "colab": {
          "base_uri": "https://localhost:8080/"
        },
        "id": "QWwy5Np2Iozx",
        "outputId": "ce38cf74-e24c-43e1-ec1c-631dc9ae339b"
      },
      "execution_count": 47,
      "outputs": [
        {
          "output_type": "stream",
          "name": "stdout",
          "text": [
            "Vetor de zeros:  array([0, 0, 0, 0, 0], dtype=int32)\n"
          ]
        }
      ]
    },
    {
      "cell_type": "code",
      "source": [
        "# Criando um vetor de uns\n",
        "ones_arr = np.ones(5)\n",
        "print('Vetor: ', repr(ones_arr))"
      ],
      "metadata": {
        "colab": {
          "base_uri": "https://localhost:8080/"
        },
        "id": "We8-WfkNKat_",
        "outputId": "e01cac0a-fba2-4827-cd7f-7fe36f23b0e3"
      },
      "execution_count": 51,
      "outputs": [
        {
          "output_type": "stream",
          "name": "stdout",
          "text": [
            "Vetor:  array([1., 1., 1., 1., 1.])\n"
          ]
        }
      ]
    },
    {
      "cell_type": "code",
      "source": [
        "# Fazendo a tranposta do vetor\n",
        "transposed = np.transpose(ones_arr)\n",
        "print('Tranposta: ', repr(transposed))"
      ],
      "metadata": {
        "colab": {
          "base_uri": "https://localhost:8080/"
        },
        "id": "kTeW-akHLCpr",
        "outputId": "ab3a2393-d4ba-48f4-97fc-c12f100a217e"
      },
      "execution_count": 54,
      "outputs": [
        {
          "output_type": "stream",
          "name": "stdout",
          "text": [
            "Tranposta:  array([1., 1., 1., 1., 1.])\n"
          ]
        }
      ]
    },
    {
      "cell_type": "markdown",
      "source": [
        "#### Exercício 4"
      ],
      "metadata": {
        "id": "yHMzmARBMiYR"
      }
    },
    {
      "cell_type": "code",
      "source": [
        "# Gerando o vetor\n",
        "points = np.linspace(-3.5, 1.5, num = 101)\n",
        "print('Vetor: ', repr(points))"
      ],
      "metadata": {
        "colab": {
          "base_uri": "https://localhost:8080/"
        },
        "id": "zJOAw4_7LV_L",
        "outputId": "bb208d53-2669-4925-f9ab-d8be67eefb98"
      },
      "execution_count": 57,
      "outputs": [
        {
          "output_type": "stream",
          "name": "stdout",
          "text": [
            "Vetor:  array([-3.5 , -3.45, -3.4 , -3.35, -3.3 , -3.25, -3.2 , -3.15, -3.1 ,\n",
            "       -3.05, -3.  , -2.95, -2.9 , -2.85, -2.8 , -2.75, -2.7 , -2.65,\n",
            "       -2.6 , -2.55, -2.5 , -2.45, -2.4 , -2.35, -2.3 , -2.25, -2.2 ,\n",
            "       -2.15, -2.1 , -2.05, -2.  , -1.95, -1.9 , -1.85, -1.8 , -1.75,\n",
            "       -1.7 , -1.65, -1.6 , -1.55, -1.5 , -1.45, -1.4 , -1.35, -1.3 ,\n",
            "       -1.25, -1.2 , -1.15, -1.1 , -1.05, -1.  , -0.95, -0.9 , -0.85,\n",
            "       -0.8 , -0.75, -0.7 , -0.65, -0.6 , -0.55, -0.5 , -0.45, -0.4 ,\n",
            "       -0.35, -0.3 , -0.25, -0.2 , -0.15, -0.1 , -0.05,  0.  ,  0.05,\n",
            "        0.1 ,  0.15,  0.2 ,  0.25,  0.3 ,  0.35,  0.4 ,  0.45,  0.5 ,\n",
            "        0.55,  0.6 ,  0.65,  0.7 ,  0.75,  0.8 ,  0.85,  0.9 ,  0.95,\n",
            "        1.  ,  1.05,  1.1 ,  1.15,  1.2 ,  1.25,  1.3 ,  1.35,  1.4 ,\n",
            "        1.45,  1.5 ])\n"
          ]
        }
      ]
    },
    {
      "cell_type": "code",
      "source": [
        ""
      ],
      "metadata": {
        "id": "rQcFTdy8Mxqt"
      },
      "execution_count": null,
      "outputs": []
    }
  ]
}