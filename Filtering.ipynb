{
  "nbformat": 4,
  "nbformat_minor": 0,
  "metadata": {
    "colab": {
      "name": "Filtering.ipynb",
      "provenance": []
    },
    "kernelspec": {
      "name": "python3",
      "display_name": "Python 3"
    },
    "language_info": {
      "name": "python"
    }
  },
  "cells": [
    {
      "cell_type": "code",
      "source": [
        "# Importando a biblioteca Numpy\n",
        "import numpy as np"
      ],
      "metadata": {
        "id": "wglrkzgcRbHa"
      },
      "execution_count": null,
      "outputs": []
    },
    {
      "cell_type": "markdown",
      "source": [
        "## Filtering data"
      ],
      "metadata": {
        "id": "YfvojWK5RYkG"
      }
    },
    {
      "cell_type": "code",
      "execution_count": null,
      "metadata": {
        "id": "4mTO5aejRGzN"
      },
      "outputs": [],
      "source": [
        "arr = np.array([[0, 2, 3],\n",
        "                [1, 3, -6],\n",
        "                [-3, -2, 1]])"
      ]
    },
    {
      "cell_type": "code",
      "source": [
        "print(repr(arr == 3))\n",
        "print(repr(arr > 0))\n",
        "print(repr(arr != 1))"
      ],
      "metadata": {
        "colab": {
          "base_uri": "https://localhost:8080/"
        },
        "id": "DQnvOIgrRXj2",
        "outputId": "8825e6a9-8f85-45b3-a31b-6377d574dfce"
      },
      "execution_count": null,
      "outputs": [
        {
          "output_type": "stream",
          "name": "stdout",
          "text": [
            "array([[False, False,  True],\n",
            "       [False,  True, False],\n",
            "       [False, False, False]])\n",
            "array([[False,  True,  True],\n",
            "       [ True,  True, False],\n",
            "       [False, False,  True]])\n",
            "array([[ True,  True,  True],\n",
            "       [False,  True,  True],\n",
            "       [ True,  True, False]])\n"
          ]
        }
      ]
    },
    {
      "cell_type": "code",
      "source": [
        "arr = np.array([[0, 2, np.nan],\n",
        "                [1, np.nan, -6],\n",
        "                [np.nan, -2, 1]])"
      ],
      "metadata": {
        "id": "sVPk8g99SItz"
      },
      "execution_count": null,
      "outputs": []
    },
    {
      "cell_type": "code",
      "source": [
        "print(repr(np.isnan(arr)))"
      ],
      "metadata": {
        "colab": {
          "base_uri": "https://localhost:8080/"
        },
        "id": "g4QiMbN2Sj1l",
        "outputId": "fd54e5e7-203c-4ce2-b5da-d46762301ef0"
      },
      "execution_count": null,
      "outputs": [
        {
          "output_type": "stream",
          "name": "stdout",
          "text": [
            "array([[False, False,  True],\n",
            "       [False,  True, False],\n",
            "       [ True, False, False]])\n"
          ]
        }
      ]
    },
    {
      "cell_type": "markdown",
      "source": [
        "## Filtering in Numpy"
      ],
      "metadata": {
        "id": "xd3UzZdxSxnG"
      }
    },
    {
      "cell_type": "code",
      "source": [
        "print(repr(np.where([True, False, True])))\n",
        "\n",
        "# (array([0, 2]),)\n",
        "# Os valores TRUE estão nos índices 0 e 2"
      ],
      "metadata": {
        "colab": {
          "base_uri": "https://localhost:8080/"
        },
        "id": "xL97DEa3SoPF",
        "outputId": "a4eadacf-fe49-40b7-ff5b-187fbdf8e11c"
      },
      "execution_count": null,
      "outputs": [
        {
          "output_type": "stream",
          "name": "stdout",
          "text": [
            "(array([0, 2]),)\n"
          ]
        }
      ]
    },
    {
      "cell_type": "code",
      "source": [
        "arr = np.array([0, 3, 5, 3, 1])\n",
        "print(repr(np.where(arr == 3)))\n",
        "\n",
        "# (array([1, 3]),)\n",
        "# Os valores que satisfazem estão nos índices 1 e 3"
      ],
      "metadata": {
        "id": "CNZuqlKpTat0",
        "colab": {
          "base_uri": "https://localhost:8080/"
        },
        "outputId": "f7e53d62-f945-42e0-f3f4-24532c422f25"
      },
      "execution_count": null,
      "outputs": [
        {
          "output_type": "stream",
          "name": "stdout",
          "text": [
            "(array([1, 3]),)\n"
          ]
        }
      ]
    },
    {
      "cell_type": "code",
      "source": [
        "arr = np.array([[0, 2, 3],\n",
        "                [1, 0, 0],\n",
        "                [-3, 0, 0]])"
      ],
      "metadata": {
        "id": "WfoHMPWsITtr"
      },
      "execution_count": null,
      "outputs": []
    },
    {
      "cell_type": "code",
      "source": [
        "x_ind, y_ind = np.where(arr != 0)\n",
        "print(repr(x_ind)) # x indices of non-zero elements\n",
        "print(repr(y_ind)) # y indices of non-zero elements\n",
        "print(repr(arr[x_ind, y_ind]))"
      ],
      "metadata": {
        "colab": {
          "base_uri": "https://localhost:8080/"
        },
        "id": "o8-XDSeUHqAy",
        "outputId": "9784517e-c400-46b5-fa29-ac70eb74da74"
      },
      "execution_count": null,
      "outputs": [
        {
          "output_type": "stream",
          "name": "stdout",
          "text": [
            "array([0, 0, 1, 2])\n",
            "array([1, 2, 0, 0])\n",
            "array([ 2,  3,  1, -3])\n"
          ]
        }
      ]
    },
    {
      "cell_type": "code",
      "source": [
        "# Gerando os vetores\n",
        "np_filter = np.array([[True, False], [False, True]])\n",
        "positives = np.array([[1, 2], [3, 4]])\n",
        "negatives = np.array([[-2, -5], [-1, -8]])"
      ],
      "metadata": {
        "id": "E3B639bwIk_R"
      },
      "execution_count": null,
      "outputs": []
    },
    {
      "cell_type": "code",
      "source": [
        "print(repr(np.where(np_filter, positives, negatives)))"
      ],
      "metadata": {
        "colab": {
          "base_uri": "https://localhost:8080/"
        },
        "id": "dRSoZ-YMIQeg",
        "outputId": "14d7a3d2-2feb-4830-8d3c-2c1f4777fa52"
      },
      "execution_count": null,
      "outputs": [
        {
          "output_type": "stream",
          "name": "stdout",
          "text": [
            "array([[ 1, -5],\n",
            "       [-1,  4]])\n"
          ]
        }
      ]
    },
    {
      "cell_type": "code",
      "source": [
        "np_filter = positives > 2\n",
        "print(repr(np.where(np_filter, positives, negatives)))"
      ],
      "metadata": {
        "colab": {
          "base_uri": "https://localhost:8080/"
        },
        "id": "tdgWF-iQJEca",
        "outputId": "749678fc-9be0-46d1-ecaa-0b0395470f19"
      },
      "execution_count": null,
      "outputs": [
        {
          "output_type": "stream",
          "name": "stdout",
          "text": [
            "array([[-2, -5],\n",
            "       [ 3,  4]])\n"
          ]
        }
      ]
    },
    {
      "cell_type": "code",
      "source": [
        "np_filter = negatives > 0\n",
        "print(repr(np.where(np_filter, positives, negatives)))"
      ],
      "metadata": {
        "colab": {
          "base_uri": "https://localhost:8080/"
        },
        "id": "gegSXmF1JS0_",
        "outputId": "096b55c7-8865-479e-e6f3-8a03fcfe5c92"
      },
      "execution_count": null,
      "outputs": [
        {
          "output_type": "stream",
          "name": "stdout",
          "text": [
            "array([[-2, -5],\n",
            "       [-1, -8]])\n"
          ]
        }
      ]
    },
    {
      "cell_type": "code",
      "source": [
        "np_filter = np.array([[True, False], [False, True]])\n",
        "positives = np.array([[1, 2], [3, 4]])\n",
        "print(repr(np.where(np_filter, positives, -1)))"
      ],
      "metadata": {
        "colab": {
          "base_uri": "https://localhost:8080/"
        },
        "id": "04SsvuWyJVkg",
        "outputId": "11acb06d-f60a-4ec7-eb0d-df8858bbfa5a"
      },
      "execution_count": null,
      "outputs": [
        {
          "output_type": "stream",
          "name": "stdout",
          "text": [
            "array([[ 1, -1],\n",
            "       [-1,  4]])\n"
          ]
        }
      ]
    },
    {
      "cell_type": "markdown",
      "source": [
        "## Axis-wise filtering"
      ],
      "metadata": {
        "id": "nR_LrnafJyoR"
      }
    },
    {
      "cell_type": "code",
      "source": [
        "# Gerando a matriz\n",
        "arr = np.array([[-2, -1, -3],\n",
        "                [4, 5, -6],\n",
        "                [3, 9, 1]])"
      ],
      "metadata": {
        "id": "fHHo1nL_JbEg"
      },
      "execution_count": null,
      "outputs": []
    },
    {
      "cell_type": "code",
      "source": [
        "print(repr(arr > 0))"
      ],
      "metadata": {
        "colab": {
          "base_uri": "https://localhost:8080/"
        },
        "id": "P3gPbaFsJ-Fb",
        "outputId": "0bb9222e-6157-4f71-90f5-27bea32d536e"
      },
      "execution_count": null,
      "outputs": [
        {
          "output_type": "stream",
          "name": "stdout",
          "text": [
            "array([[False, False, False],\n",
            "       [ True,  True, False],\n",
            "       [ True,  True,  True]])\n"
          ]
        }
      ]
    },
    {
      "cell_type": "code",
      "source": [
        "print(np.any(arr > 0))"
      ],
      "metadata": {
        "colab": {
          "base_uri": "https://localhost:8080/"
        },
        "id": "2LtKP5nrJ_Kq",
        "outputId": "109b5890-bd39-4b44-ba8e-802993ebaa00"
      },
      "execution_count": null,
      "outputs": [
        {
          "output_type": "stream",
          "name": "stdout",
          "text": [
            "True\n"
          ]
        }
      ]
    },
    {
      "cell_type": "code",
      "source": [
        "print(np.all(arr > 0))"
      ],
      "metadata": {
        "colab": {
          "base_uri": "https://localhost:8080/"
        },
        "id": "1MuTm3pmKBYu",
        "outputId": "5cde3ba2-6a0e-461f-cfc8-0925ae1aa9a3"
      },
      "execution_count": null,
      "outputs": [
        {
          "output_type": "stream",
          "name": "stdout",
          "text": [
            "False\n"
          ]
        }
      ]
    },
    {
      "cell_type": "code",
      "source": [
        "print(repr(np.any(arr > 0, axis=0)))"
      ],
      "metadata": {
        "colab": {
          "base_uri": "https://localhost:8080/"
        },
        "id": "pmRnVejeKEvK",
        "outputId": "34cfeb8e-422d-4dd0-802c-881628b434b8"
      },
      "execution_count": null,
      "outputs": [
        {
          "output_type": "stream",
          "name": "stdout",
          "text": [
            "array([ True,  True,  True])\n"
          ]
        }
      ]
    },
    {
      "cell_type": "code",
      "source": [
        "print(repr(np.any(arr > 0, axis=1)))"
      ],
      "metadata": {
        "colab": {
          "base_uri": "https://localhost:8080/"
        },
        "id": "gkHf_O-qKL5U",
        "outputId": "fed23350-3501-42e7-d773-f2292460dff4"
      },
      "execution_count": null,
      "outputs": [
        {
          "output_type": "stream",
          "name": "stdout",
          "text": [
            "array([False,  True,  True])\n"
          ]
        }
      ]
    },
    {
      "cell_type": "code",
      "source": [
        "print(repr(np.all(arr > 0, axis=1)))"
      ],
      "metadata": {
        "colab": {
          "base_uri": "https://localhost:8080/"
        },
        "id": "oe9FmDJIKOjk",
        "outputId": "683baa3a-3e2e-4956-a602-8193657843c6"
      },
      "execution_count": null,
      "outputs": [
        {
          "output_type": "stream",
          "name": "stdout",
          "text": [
            "array([False, False,  True])\n"
          ]
        }
      ]
    },
    {
      "cell_type": "code",
      "source": [
        "has_positive = np.any(arr > 0, axis=1)"
      ],
      "metadata": {
        "id": "NfeNBHEuKP5c"
      },
      "execution_count": null,
      "outputs": []
    },
    {
      "cell_type": "code",
      "source": [
        "print(has_positive)"
      ],
      "metadata": {
        "colab": {
          "base_uri": "https://localhost:8080/"
        },
        "id": "_HktvLUNKY2T",
        "outputId": "d11ebb91-e8d7-4545-a670-a720af8ea2d3"
      },
      "execution_count": null,
      "outputs": [
        {
          "output_type": "stream",
          "name": "stdout",
          "text": [
            "[False  True  True]\n"
          ]
        }
      ]
    },
    {
      "cell_type": "code",
      "source": [
        "print(repr(arr[np.where(has_positive)]))"
      ],
      "metadata": {
        "colab": {
          "base_uri": "https://localhost:8080/"
        },
        "id": "AZAylMbdKaFp",
        "outputId": "55fc6f77-4778-4588-f06f-1e55fd2960e8"
      },
      "execution_count": null,
      "outputs": [
        {
          "output_type": "stream",
          "name": "stdout",
          "text": [
            "array([[ 4,  5, -6],\n",
            "       [ 3,  9,  1]])\n"
          ]
        }
      ]
    },
    {
      "cell_type": "markdown",
      "source": [
        "## Time to code"
      ],
      "metadata": {
        "id": "mk1_Wz3BKf5c"
      }
    },
    {
      "cell_type": "markdown",
      "source": [
        "Set a tuple of x_ind, y_ind equal to the output of np.where, applied with the condition data > 0.\n",
        "\n",
        "Then return data[x_ind, y_ind]."
      ],
      "metadata": {
        "id": "trMMJhPNKiww"
      }
    },
    {
      "cell_type": "code",
      "source": [
        "def get_positives(data):\n",
        "  x_ind, y_ind = np.where(data >0)\n",
        "  return data[x_ind, y_ind]"
      ],
      "metadata": {
        "id": "xp8ykFl5Kby9"
      },
      "execution_count": null,
      "outputs": []
    },
    {
      "cell_type": "code",
      "source": [
        "def replace_zeros(data):\n",
        "  zeros = np.zeros_like(data)\n",
        "  zero_replace = np.where(data > 0, data, zeros)\n",
        "  return zero_replace"
      ],
      "metadata": {
        "id": "gY0aMRqmKoFT"
      },
      "execution_count": null,
      "outputs": []
    },
    {
      "cell_type": "code",
      "source": [
        "def replace_neg_one(data):\n",
        "  neg_one_replace = np.where(data > 0, data, -1)\n",
        "  return neg_one_replace"
      ],
      "metadata": {
        "id": "dRNo-ztj6iEp"
      },
      "execution_count": 1,
      "outputs": []
    },
    {
      "cell_type": "code",
      "source": [
        "def coin_flip_filter(data):\n",
        "  coin_flips = np.random.randint(2, size=data.shape)\n",
        "  bool_coin_flips = coin_flips.astype(np.bool)\n",
        "  one_replace = np.where(bool_coin_flips, data, 1)\n",
        "  return one_replace"
      ],
      "metadata": {
        "id": "Fv82VH7IK2r-"
      },
      "execution_count": 2,
      "outputs": []
    },
    {
      "cell_type": "code",
      "source": [
        ""
      ],
      "metadata": {
        "id": "jPyXDpZ8LXn5"
      },
      "execution_count": null,
      "outputs": []
    }
  ]
}