{
  "nbformat": 4,
  "nbformat_minor": 0,
  "metadata": {
    "colab": {
      "name": "DataFrame.ipynb",
      "provenance": []
    },
    "kernelspec": {
      "name": "python3",
      "display_name": "Python 3"
    },
    "language_info": {
      "name": "python"
    }
  },
  "cells": [
    {
      "cell_type": "code",
      "source": [
        "import numpy as np\n",
        "import pandas as pd"
      ],
      "metadata": {
        "id": "8UIDjjjPc_8d"
      },
      "execution_count": 1,
      "outputs": []
    },
    {
      "cell_type": "markdown",
      "source": [
        "# 2-D data"
      ],
      "metadata": {
        "id": "o0K6XQBjc8rf"
      }
    },
    {
      "cell_type": "code",
      "execution_count": 6,
      "metadata": {
        "id": "MsgQQYVgc2fL"
      },
      "outputs": [],
      "source": [
        "# Criando um dataframe\n",
        "df = pd.DataFrame()"
      ]
    },
    {
      "cell_type": "code",
      "source": [
        "# Imprimindo o formato do dataframe\n",
        "print('{}\\n'.format(df))"
      ],
      "metadata": {
        "colab": {
          "base_uri": "https://localhost:8080/"
        },
        "id": "u5uuQRw9deTp",
        "outputId": "ed419f16-c0fb-48f7-9778-1322d5b18046"
      },
      "execution_count": 7,
      "outputs": [
        {
          "output_type": "stream",
          "name": "stdout",
          "text": [
            "Empty DataFrame\n",
            "Columns: []\n",
            "Index: []\n",
            "\n"
          ]
        }
      ]
    },
    {
      "cell_type": "code",
      "source": [
        "# Adicionando elemento no dataframe\n",
        "df = pd.DataFrame([5, 6])"
      ],
      "metadata": {
        "id": "nIqj3tK7dUrk"
      },
      "execution_count": 4,
      "outputs": []
    },
    {
      "cell_type": "code",
      "source": [
        "# Imprimindo o dataframe\n",
        "print('{}\\n'.format(df))"
      ],
      "metadata": {
        "colab": {
          "base_uri": "https://localhost:8080/"
        },
        "id": "NOMsw7OAdKaj",
        "outputId": "54cefb0e-c62d-47a8-d081-275be0fa30e6"
      },
      "execution_count": 10,
      "outputs": [
        {
          "output_type": "stream",
          "name": "stdout",
          "text": [
            "   0  1\n",
            "0  5  6\n",
            "\n"
          ]
        }
      ]
    },
    {
      "cell_type": "code",
      "source": [
        "# Adicionando elementos no dataframe\n",
        "df = pd.DataFrame([[5, 6]])"
      ],
      "metadata": {
        "id": "PBGcOOutdRzz"
      },
      "execution_count": 11,
      "outputs": []
    },
    {
      "cell_type": "code",
      "source": [
        "# Imprimindo o dataframe\n",
        "print('{}\\n'.format(df))"
      ],
      "metadata": {
        "colab": {
          "base_uri": "https://localhost:8080/"
        },
        "id": "0_9OJ7VIdkFO",
        "outputId": "30d93ced-f892-4978-c02e-b4b464e2b8cb"
      },
      "execution_count": 12,
      "outputs": [
        {
          "output_type": "stream",
          "name": "stdout",
          "text": [
            "   0  1\n",
            "0  5  6\n",
            "\n"
          ]
        }
      ]
    },
    {
      "cell_type": "code",
      "source": [
        "# Adicionando elementos no dataframe\n",
        "df = pd.DataFrame([[5, 6], [1, 3]],\n",
        "                  index=['r1', 'r2'],\n",
        "                  columns=['c1', 'c2'])"
      ],
      "metadata": {
        "id": "bA7pkiGYdlcY"
      },
      "execution_count": 13,
      "outputs": []
    },
    {
      "cell_type": "code",
      "source": [
        "# Imprimindo o dataframe\n",
        "print('{}\\n'.format(df))"
      ],
      "metadata": {
        "colab": {
          "base_uri": "https://localhost:8080/"
        },
        "id": "2WJNcOijdyvL",
        "outputId": "7a672dee-876b-4664-ca7d-733d7b706680"
      },
      "execution_count": 15,
      "outputs": [
        {
          "output_type": "stream",
          "name": "stdout",
          "text": [
            "    c1  c2\n",
            "r1   5   6\n",
            "r2   1   3\n",
            "\n"
          ]
        }
      ]
    },
    {
      "cell_type": "code",
      "source": [
        "# Adicionando elementos no dataframe\n",
        "df = pd.DataFrame({'c1': [1, 2], 'c2': [3, 4]},\n",
        "                  index=['r1', 'r2'])"
      ],
      "metadata": {
        "id": "OvIFmaEOd0_w"
      },
      "execution_count": 16,
      "outputs": []
    },
    {
      "cell_type": "code",
      "source": [
        "# Imprimindo o dataframe\n",
        "print('{}\\n'.format(df))"
      ],
      "metadata": {
        "colab": {
          "base_uri": "https://localhost:8080/"
        },
        "id": "_I6Z186Vd_dr",
        "outputId": "72c640ab-51fe-4cd7-cb8c-91740891da49"
      },
      "execution_count": 18,
      "outputs": [
        {
          "output_type": "stream",
          "name": "stdout",
          "text": [
            "    c1  c2\n",
            "r1   1   3\n",
            "r2   2   4\n",
            "\n"
          ]
        }
      ]
    },
    {
      "cell_type": "markdown",
      "source": [
        "# Upcasting"
      ],
      "metadata": {
        "id": "rkZKPCsyeI6H"
      }
    },
    {
      "cell_type": "code",
      "source": [
        "upcast = pd.DataFrame([[5, 6], [1.2, 3]])\n",
        "print('{}\\n'.format(upcast))"
      ],
      "metadata": {
        "colab": {
          "base_uri": "https://localhost:8080/"
        },
        "id": "bs-NYH2ReFxM",
        "outputId": "5328ac00-66f3-4b74-9ebf-21872e463930"
      },
      "execution_count": 19,
      "outputs": [
        {
          "output_type": "stream",
          "name": "stdout",
          "text": [
            "     0  1\n",
            "0  5.0  6\n",
            "1  1.2  3\n",
            "\n"
          ]
        }
      ]
    },
    {
      "cell_type": "code",
      "source": [
        "# Tipos de dados de cada coluna\n",
        "print(upcast.dtypes)"
      ],
      "metadata": {
        "colab": {
          "base_uri": "https://localhost:8080/"
        },
        "id": "wcOg4GqVeQRX",
        "outputId": "d7bc76f1-5d92-436f-930d-5405e45e10b7"
      },
      "execution_count": 20,
      "outputs": [
        {
          "output_type": "stream",
          "name": "stdout",
          "text": [
            "0    float64\n",
            "1      int64\n",
            "dtype: object\n"
          ]
        }
      ]
    },
    {
      "cell_type": "markdown",
      "source": [
        "# Anexando colunas"
      ],
      "metadata": {
        "id": "nDQ2IaqCeX1g"
      }
    },
    {
      "cell_type": "code",
      "source": [
        "# Criando um dataframe\n",
        "df = pd.DataFrame([[5, 6], [1.2, 3]])\n",
        "\n",
        "# Criando uma Série\n",
        "ser = pd.Series([0, 0], name='r3')"
      ],
      "metadata": {
        "id": "AN8V5QUYeS7H"
      },
      "execution_count": 22,
      "outputs": []
    },
    {
      "cell_type": "code",
      "source": [
        "# Anexando a Série ao Dataframe\n",
        "df_app = df.append(ser)\n",
        "print('{}\\n'.format(df_app))"
      ],
      "metadata": {
        "colab": {
          "base_uri": "https://localhost:8080/"
        },
        "id": "dHRG8rSxeij7",
        "outputId": "f18c185d-a587-4d8a-8539-d88a29422f06"
      },
      "execution_count": 24,
      "outputs": [
        {
          "output_type": "stream",
          "name": "stdout",
          "text": [
            "      0  1\n",
            "0   5.0  6\n",
            "1   1.2  3\n",
            "r3  0.0  0\n",
            "\n"
          ]
        }
      ]
    },
    {
      "cell_type": "code",
      "source": [
        "# Anexando a Série ao Dataframe, ignorando o indíce \n",
        "df_app = df.append(ser, ignore_index=True)\n",
        "print('{}\\n'.format(df_app))"
      ],
      "metadata": {
        "colab": {
          "base_uri": "https://localhost:8080/"
        },
        "id": "wQxFBUxFep9X",
        "outputId": "83d486a1-2e63-428b-c867-2b71c384d39d"
      },
      "execution_count": 28,
      "outputs": [
        {
          "output_type": "stream",
          "name": "stdout",
          "text": [
            "     0  1\n",
            "0  5.0  6\n",
            "1  1.2  3\n",
            "2  0.0  0\n",
            "\n"
          ]
        }
      ]
    },
    {
      "cell_type": "code",
      "source": [
        "# Criando outro dataframe\n",
        "df2 = pd.DataFrame([[0,0],[9,9]])"
      ],
      "metadata": {
        "id": "ODqeO324ewhq"
      },
      "execution_count": 29,
      "outputs": []
    },
    {
      "cell_type": "code",
      "source": [
        "# Anexando os dois dataframes\n",
        "df_app = df.append(df2)\n",
        "print('{}\\n'.format(df_app))"
      ],
      "metadata": {
        "colab": {
          "base_uri": "https://localhost:8080/"
        },
        "id": "dKQiVfHAezto",
        "outputId": "e8c9e82c-017c-45cd-fc2f-38b028727cc1"
      },
      "execution_count": 30,
      "outputs": [
        {
          "output_type": "stream",
          "name": "stdout",
          "text": [
            "     0  1\n",
            "0  5.0  6\n",
            "1  1.2  3\n",
            "0  0.0  0\n",
            "1  9.0  9\n",
            "\n"
          ]
        }
      ]
    },
    {
      "cell_type": "markdown",
      "source": [
        "# Removendo observações"
      ],
      "metadata": {
        "id": "ptz84R9hfDXs"
      }
    },
    {
      "cell_type": "code",
      "source": [
        "# Criando o dataframe\n",
        "df = pd.DataFrame({'c1': [1, 2], 'c2': [3, 4],\n",
        "                   'c3': [5, 6]},\n",
        "                  index=['r1', 'r2'])"
      ],
      "metadata": {
        "id": "4NFWyd-2e0Gd"
      },
      "execution_count": 31,
      "outputs": []
    },
    {
      "cell_type": "code",
      "source": [
        "# Removendo a linha R1\n",
        "df_drop = df.drop(labels='r1') # Deve apontar o índice da linha\n",
        "print('{}\\n'.format(df_drop))"
      ],
      "metadata": {
        "colab": {
          "base_uri": "https://localhost:8080/"
        },
        "id": "FPXmEUXdfKQC",
        "outputId": "384307e6-d462-4a78-bcd6-fc85fa72f46f"
      },
      "execution_count": 32,
      "outputs": [
        {
          "output_type": "stream",
          "name": "stdout",
          "text": [
            "    c1  c2  c3\n",
            "r2   2   4   6\n",
            "\n"
          ]
        }
      ]
    },
    {
      "cell_type": "code",
      "source": [
        "# Removendo as colunas C1 e C3\n",
        "df_drop = df.drop(labels=['c1', 'c3'], axis=1) # Deve apontar os índices da coluna\n",
        "print('{}\\n'.format(df_drop))"
      ],
      "metadata": {
        "colab": {
          "base_uri": "https://localhost:8080/"
        },
        "id": "cGa4JSE-fN8M",
        "outputId": "81230899-8412-4723-92da-a1152f43aeec"
      },
      "execution_count": 33,
      "outputs": [
        {
          "output_type": "stream",
          "name": "stdout",
          "text": [
            "    c2\n",
            "r1   3\n",
            "r2   4\n",
            "\n"
          ]
        }
      ]
    },
    {
      "cell_type": "code",
      "source": [
        "# Removendo a linha R2\n",
        "df_drop = df.drop(index='r2')\n",
        "print('{}\\n'.format(df_drop))"
      ],
      "metadata": {
        "colab": {
          "base_uri": "https://localhost:8080/"
        },
        "id": "sFIN6_ZNfbBM",
        "outputId": "a530c892-4707-4554-bc5c-beb2b25608c0"
      },
      "execution_count": 34,
      "outputs": [
        {
          "output_type": "stream",
          "name": "stdout",
          "text": [
            "    c1  c2  c3\n",
            "r1   1   3   5\n",
            "\n"
          ]
        }
      ]
    },
    {
      "cell_type": "code",
      "source": [
        "# Removendo a coluna C2\n",
        "df_drop = df.drop(columns='c2')\n",
        "print('{}\\n'.format(df_drop))"
      ],
      "metadata": {
        "colab": {
          "base_uri": "https://localhost:8080/"
        },
        "id": "4Ox3c33bffA8",
        "outputId": "0a95943b-7211-4f66-ad7b-beb27602785a"
      },
      "execution_count": 35,
      "outputs": [
        {
          "output_type": "stream",
          "name": "stdout",
          "text": [
            "    c1  c3\n",
            "r1   1   5\n",
            "r2   2   6\n",
            "\n"
          ]
        }
      ]
    },
    {
      "cell_type": "code",
      "source": [
        "# Removendo a coluna C2\n",
        "print('{}\\n'.format(df))\n",
        "df.drop(index='r2', columns='c2') # Deve apontar os índices de coluna e linha do elemento\n",
        "print('{}\\n'.format(df_drop))"
      ],
      "metadata": {
        "colab": {
          "base_uri": "https://localhost:8080/"
        },
        "id": "epXqfdijfmT7",
        "outputId": "269bc150-be06-4c99-b23e-86e1a3cc48c9"
      },
      "execution_count": 37,
      "outputs": [
        {
          "output_type": "stream",
          "name": "stdout",
          "text": [
            "    c1  c2  c3\n",
            "r1   1   3   5\n",
            "r2   2   4   6\n",
            "\n",
            "    c1  c3\n",
            "r1   1   5\n",
            "r2   2   6\n",
            "\n"
          ]
        }
      ]
    },
    {
      "cell_type": "markdown",
      "source": [
        "# Time to Code!"
      ],
      "metadata": {
        "id": "_ozXcodugEca"
      }
    },
    {
      "cell_type": "markdown",
      "source": [
        "We'll first create a DataFrame from a Python dictionary. The dictionary will have key-value pairs 'c1':[0, 1, 2, 3] and 'c2':[5, 6, 7, 8], in that order.\n",
        "\n",
        "The index for the DataFrame will come from the list of row labels ['r1', 'r2', 'r3', 'r4']."
      ],
      "metadata": {
        "id": "z4SOQXR2h8yX"
      }
    },
    {
      "cell_type": "code",
      "source": [
        "# Crinado o dataframe\n",
        "df = pd.DataFrame({'c1': [0, 1, 2, 3], 'c2': [5, 6, 7, 8]},\n",
        "                  index=['r1', 'r2', 'r3', 'r4'])"
      ],
      "metadata": {
        "id": "0qgy8m5gf0D4"
      },
      "execution_count": 38,
      "outputs": []
    },
    {
      "cell_type": "markdown",
      "source": [
        "We'll create another DataFrame, this one representing a single row. Rather than a dictionary for the first argument, we use a list of lists, and manually set the column labels to ['c1, 'c2'].\n",
        "\n",
        "Since there is only one row, the row labels will be ['r5']."
      ],
      "metadata": {
        "id": "fNmtAFq_iF64"
      }
    },
    {
      "cell_type": "code",
      "source": [
        "row_df = pd.DataFrame([[9, 9]], \n",
        "                      columns=['c1', 'c2'], \n",
        "                      index=['r5'])"
      ],
      "metadata": {
        "id": "GNFL3lD9h5gE"
      },
      "execution_count": 39,
      "outputs": []
    },
    {
      "cell_type": "markdown",
      "source": [
        "After creating row_df, we append it to the end of df and drop row 'r2'."
      ],
      "metadata": {
        "id": "BZr9M_ulpDTv"
      }
    },
    {
      "cell_type": "code",
      "source": [
        "df_app = df.append(row_df)\n",
        "df_drop = df_app.drop(labels='r2')"
      ],
      "metadata": {
        "id": "AR5t4MOco_n5"
      },
      "execution_count": null,
      "outputs": []
    }
  ]
}