{
  "nbformat": 4,
  "nbformat_minor": 0,
  "metadata": {
    "colab": {
      "name": "Grouping.ipynb",
      "provenance": []
    },
    "kernelspec": {
      "name": "python3",
      "display_name": "Python 3"
    },
    "language_info": {
      "name": "python"
    }
  },
  "cells": [
    {
      "cell_type": "markdown",
      "source": [
        "# Grouping"
      ],
      "metadata": {
        "id": "tHStQ0BqMRVm"
      }
    },
    {
      "cell_type": "markdown",
      "source": [
        "### Grouping by column"
      ],
      "metadata": {
        "id": "mkAmWT16MSAN"
      }
    },
    {
      "cell_type": "code",
      "execution_count": null,
      "metadata": {
        "id": "djvYlInTMNJG"
      },
      "outputs": [],
      "source": [
        "# Predefined df of MLB stats\n",
        "print('{}\\n'.format(df))\n",
        "\n",
        "groups = df.groupby('yearID')\n",
        "for name, group in groups:\n",
        "  print('Year: {}'.format(name))\n",
        "  print('{}\\n'.format(group))\n",
        "  \n",
        "print('{}\\n'.format(groups.get_group(2016)))\n",
        "print('{}\\n'.format(groups.sum()))\n",
        "print('{}\\n'.format(groups.mean()))"
      ]
    },
    {
      "cell_type": "code",
      "source": [
        "no2015 = groups.filter(lambda x: x.name > 2015)\n",
        "print(no2015)"
      ],
      "metadata": {
        "id": "Ov-HxQzAMZ99"
      },
      "execution_count": null,
      "outputs": []
    },
    {
      "cell_type": "markdown",
      "source": [
        "### Multiple columns"
      ],
      "metadata": {
        "id": "MDdYaFO1Mbm1"
      }
    },
    {
      "cell_type": "code",
      "source": [
        "# player_df is predefined\n",
        "groups = player_df.groupby(['yearID', 'teamID'])\n",
        "\n",
        "for name, group in groups:\n",
        "  print('Year, Team: {}'.format(name))\n",
        "  print('{}\\n'.format(group))\n",
        "\n",
        "print(groups.sum())"
      ],
      "metadata": {
        "id": "i3tljfsTMcmd"
      },
      "execution_count": null,
      "outputs": []
    },
    {
      "cell_type": "markdown",
      "source": [
        "# Time to code!"
      ],
      "metadata": {
        "id": "Zxp9RJT2Ml4t"
      }
    },
    {
      "cell_type": "markdown",
      "source": [
        "The coding exercises for this chapter involve performing grouping operations on df, which contains all MLB batting data from 1871-2017. Using df, our goal is to retrieve home run (HR) statistics for 2017.\n",
        "\n",
        "To do this, we need to calculate the total number of home runs hit each year. This involves first grouping df by year."
      ],
      "metadata": {
        "id": "6RuPb_ucMxNd"
      }
    },
    {
      "cell_type": "code",
      "source": [
        "year_group = df.groupby('yearID')"
      ],
      "metadata": {
        "id": "ASliLlRFMehc"
      },
      "execution_count": null,
      "outputs": []
    },
    {
      "cell_type": "markdown",
      "source": [
        "The yearly stats can be obtained from summing the values across the year-separated groups.\n",
        "\n"
      ],
      "metadata": {
        "id": "pXcUOsLOM_ay"
      }
    },
    {
      "cell_type": "code",
      "source": [
        "year_stats = year_group.sum()"
      ],
      "metadata": {
        "id": "8zcAy4KvMeyV"
      },
      "execution_count": null,
      "outputs": []
    },
    {
      "cell_type": "markdown",
      "source": [
        "The year_stats DataFrame represents the total value for each stat per year. The row labels are the years and the column labels are the stat categories, e.g. home runs. Using the loc property, we'll retrieve the home run total for 2017."
      ],
      "metadata": {
        "id": "kYf2vLlMNIQ7"
      }
    },
    {
      "cell_type": "code",
      "source": [
        "hr_2017 = year_stats.loc[2017, 'HR']"
      ],
      "metadata": {
        "id": "fNw8TxtnNJNL"
      },
      "execution_count": null,
      "outputs": []
    },
    {
      "cell_type": "markdown",
      "source": [
        "Next we want to get the yearly totals for each batting statistic per team. To do this, we group the data by both the year and team."
      ],
      "metadata": {
        "id": "_yk40e0ZNjT6"
      }
    },
    {
      "cell_type": "code",
      "source": [
        "year_team_group = df.groupby(['yearID','teamID'])"
      ],
      "metadata": {
        "id": "egGZJnYANbDU"
      },
      "execution_count": null,
      "outputs": []
    },
    {
      "cell_type": "markdown",
      "source": [
        "Once again, to obtain the yearly stats we just sum over all the groups."
      ],
      "metadata": {
        "id": "jQOlVSLpN3jK"
      }
    },
    {
      "cell_type": "code",
      "source": [
        "year_team_stats = year_team_group.sum()"
      ],
      "metadata": {
        "id": "Cy7catL0Nuzj"
      },
      "execution_count": null,
      "outputs": []
    }
  ]
}