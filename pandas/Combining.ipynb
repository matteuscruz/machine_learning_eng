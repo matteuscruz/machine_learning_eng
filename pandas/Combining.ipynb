{
  "nbformat": 4,
  "nbformat_minor": 0,
  "metadata": {
    "colab": {
      "name": "Combining.ipynb",
      "provenance": []
    },
    "kernelspec": {
      "name": "python3",
      "display_name": "Python 3"
    },
    "language_info": {
      "name": "python"
    }
  },
  "cells": [
    {
      "cell_type": "markdown",
      "source": [
        "Importando as bibliotecas:"
      ],
      "metadata": {
        "id": "ZjZn9_wxn6we"
      }
    },
    {
      "cell_type": "code",
      "execution_count": 1,
      "metadata": {
        "id": "MIQ9EA_zn2h0"
      },
      "outputs": [],
      "source": [
        "import pandas as pd"
      ]
    },
    {
      "cell_type": "markdown",
      "source": [
        "## Combining"
      ],
      "metadata": {
        "id": "Xk-cEQmyoKpn"
      }
    },
    {
      "cell_type": "code",
      "source": [
        "# Criando os dataframes:\n",
        "df1 = pd.DataFrame({'c1':[1,2], 'c2':[3,4]},\n",
        "                   index=['r1','r2'])\n",
        "df2 = pd.DataFrame({'c1':[5,6], 'c2':[7,8]},\n",
        "                   index=['r1','r2'])\n",
        "df3 = pd.DataFrame({'c1':[5,6], 'c2':[7,8]})"
      ],
      "metadata": {
        "colab": {
          "base_uri": "https://localhost:8080/"
        },
        "id": "zf65ICAioKDX",
        "outputId": "74a82100-7496-42f1-b2c1-cc621c1a3262"
      },
      "execution_count": 13,
      "outputs": [
        {
          "output_type": "stream",
          "name": "stdout",
          "text": [
            "    c1  c2\n",
            "r1   1   3\n",
            "r2   2   4\n",
            " DF1\n"
          ]
        }
      ]
    },
    {
      "cell_type": "code",
      "source": [
        "# Imprimindo DF1:\n",
        "print('{}\\n'.format(df1))"
      ],
      "metadata": {
        "colab": {
          "base_uri": "https://localhost:8080/"
        },
        "id": "XCAOLPUdo0sX",
        "outputId": "a0dc5c4f-6bd0-4618-e79f-ca3b663a1d8e"
      },
      "execution_count": 14,
      "outputs": [
        {
          "output_type": "stream",
          "name": "stdout",
          "text": [
            "    c1  c2\n",
            "r1   1   3\n",
            "r2   2   4\n",
            "\n"
          ]
        }
      ]
    },
    {
      "cell_type": "code",
      "source": [
        "# Imprimindo DF2:\n",
        "print('{}\\n'.format(df2))"
      ],
      "metadata": {
        "colab": {
          "base_uri": "https://localhost:8080/"
        },
        "id": "x52Qrp5Bo3k7",
        "outputId": "39601efd-76a3-4753-a974-deb3a04ef567"
      },
      "execution_count": 15,
      "outputs": [
        {
          "output_type": "stream",
          "name": "stdout",
          "text": [
            "    c1  c2\n",
            "r1   5   7\n",
            "r2   6   8\n",
            "\n"
          ]
        }
      ]
    },
    {
      "cell_type": "code",
      "source": [
        "# Imprimindo DF3:\n",
        "print('{}\\n'.format(df3))"
      ],
      "metadata": {
        "colab": {
          "base_uri": "https://localhost:8080/"
        },
        "id": "JJVZBs18o4Oj",
        "outputId": "43c90991-426b-4b2f-c365-1e53e708b30e"
      },
      "execution_count": 16,
      "outputs": [
        {
          "output_type": "stream",
          "name": "stdout",
          "text": [
            "   c1  c2\n",
            "0   5   7\n",
            "1   6   8\n",
            "\n"
          ]
        }
      ]
    },
    {
      "cell_type": "code",
      "source": [
        "# Concatenando os dataframes:\n",
        "concat = pd.concat([df1, df2], axis=1)\n",
        "# Imprimindo:\n",
        "print('{}\\n'.format(concat))"
      ],
      "metadata": {
        "colab": {
          "base_uri": "https://localhost:8080/"
        },
        "id": "A3GBnkqJoJPq",
        "outputId": "0b4d848f-7191-477b-9273-aacabd6a96c9"
      },
      "execution_count": 7,
      "outputs": [
        {
          "output_type": "stream",
          "name": "stdout",
          "text": [
            "    c1  c2  c1  c2\n",
            "r1   1   3   5   7\n",
            "r2   2   4   6   8\n",
            "\n"
          ]
        }
      ]
    },
    {
      "cell_type": "code",
      "source": [
        "# Concatenando:\n",
        "concat = pd.concat([df2, df1, df3])\n",
        "# Imprimindo:\n",
        "print('{}\\n'.format(concat))"
      ],
      "metadata": {
        "colab": {
          "base_uri": "https://localhost:8080/"
        },
        "id": "YCfAZsGHob-8",
        "outputId": "89baaec8-ce64-4a65-d98a-9126e5efeb79"
      },
      "execution_count": 8,
      "outputs": [
        {
          "output_type": "stream",
          "name": "stdout",
          "text": [
            "    c1  c2\n",
            "r1   5   7\n",
            "r2   6   8\n",
            "r1   1   3\n",
            "r2   2   4\n",
            "0    5   7\n",
            "1    6   8\n",
            "\n"
          ]
        }
      ]
    },
    {
      "cell_type": "code",
      "source": [
        "# Concatenando:\n",
        "concat = pd.concat([df1, df3], axis=1)\n",
        "# Imprimindo:\n",
        "print('{}\\n'.format(concat))"
      ],
      "metadata": {
        "colab": {
          "base_uri": "https://localhost:8080/"
        },
        "id": "goa5-nQgoX9Q",
        "outputId": "bb5e10f8-215c-4567-8bbf-9d6b5df2fec2"
      },
      "execution_count": 9,
      "outputs": [
        {
          "output_type": "stream",
          "name": "stdout",
          "text": [
            "     c1   c2   c1   c2\n",
            "r1  1.0  3.0  NaN  NaN\n",
            "r2  2.0  4.0  NaN  NaN\n",
            "0   NaN  NaN  5.0  7.0\n",
            "1   NaN  NaN  6.0  8.0\n",
            "\n"
          ]
        }
      ]
    },
    {
      "cell_type": "markdown",
      "source": [
        "## Merging"
      ],
      "metadata": {
        "id": "YdNlbuIeo_ZM"
      }
    },
    {
      "cell_type": "code",
      "source": [
        "# Criando os dataframes:\n",
        "mlb_df1 = pd.DataFrame({'name': ['john doe', 'al smith', 'sam black', 'john doe'],\n",
        "                        'pos': ['1B', 'C', 'P', '2B'],\n",
        "                        'year': [2000, 2004, 2008, 2003]})\n",
        "\n",
        "mlb_df2 = pd.DataFrame({'name': ['john doe', 'al smith', 'jack lee'],\n",
        "                        'year': [2000, 2004, 2012],\n",
        "                        'rbi': [80, 100, 12]})"
      ],
      "metadata": {
        "id": "x0jiERkJonph"
      },
      "execution_count": 17,
      "outputs": []
    },
    {
      "cell_type": "code",
      "source": [
        "# Imprimindo:\n",
        "print('{}\\n'.format(mlb_df1))\n",
        "print('{}\\n'.format(mlb_df1))"
      ],
      "metadata": {
        "colab": {
          "base_uri": "https://localhost:8080/"
        },
        "id": "xrjROT19pFp6",
        "outputId": "fdc09550-efe5-4e79-f250-7fc4fdf328ff"
      },
      "execution_count": 18,
      "outputs": [
        {
          "output_type": "stream",
          "name": "stdout",
          "text": [
            "        name pos  year\n",
            "0   john doe  1B  2000\n",
            "1   al smith   C  2004\n",
            "2  sam black   P  2008\n",
            "3   john doe  2B  2003\n",
            "\n",
            "        name pos  year\n",
            "0   john doe  1B  2000\n",
            "1   al smith   C  2004\n",
            "2  sam black   P  2008\n",
            "3   john doe  2B  2003\n",
            "\n"
          ]
        }
      ]
    },
    {
      "cell_type": "code",
      "source": [
        "# Fusão dos datasets\n",
        "mlb_merged = pd.merge(mlb_df1, mlb_df2)\n",
        "print('{}\\n'.format(mlb_merged))"
      ],
      "metadata": {
        "colab": {
          "base_uri": "https://localhost:8080/"
        },
        "id": "GbSk0cLupO3O",
        "outputId": "cb3ce396-dc59-4f53-e7b3-bf36d471af6e"
      },
      "execution_count": 19,
      "outputs": [
        {
          "output_type": "stream",
          "name": "stdout",
          "text": [
            "       name pos  year  rbi\n",
            "0  john doe  1B  2000   80\n",
            "1  al smith   C  2004  100\n",
            "\n"
          ]
        }
      ]
    },
    {
      "cell_type": "markdown",
      "source": [
        "## Time to Code!"
      ],
      "metadata": {
        "id": "y3X1Y-e1prkP"
      }
    },
    {
      "cell_type": "markdown",
      "source": [
        "The coding exercises for this chapter involve completing small functions that take in two DataFrame objects as input."
      ],
      "metadata": {
        "id": "8tE-DSFipvDu"
      }
    },
    {
      "cell_type": "code",
      "source": [
        "def concat_rows(df1, df2):\n",
        "  row_concat = pd.concat([df1, df2])\n",
        "  return row_concat"
      ],
      "metadata": {
        "id": "Bhb8LamepnaZ"
      },
      "execution_count": 21,
      "outputs": []
    },
    {
      "cell_type": "markdown",
      "source": [
        "The next function, concat_cols will concatenate the columns of the two input DataFrames.\n"
      ],
      "metadata": {
        "id": "w7dvp08dqrGw"
      }
    },
    {
      "cell_type": "code",
      "source": [
        "def concat_cols(df1, df2):\n",
        "  col_concat = pd.concat([df1, df2], axis=1)\n",
        "  return col_concat"
      ],
      "metadata": {
        "id": "6GpUvD-RqQvR"
      },
      "execution_count": 22,
      "outputs": []
    },
    {
      "cell_type": "markdown",
      "source": [
        "The final function, merge_dfs will merge the two input DataFrames along their columns.\n",
        "\n"
      ],
      "metadata": {
        "id": "wTXQTZ9jq4TZ"
      }
    },
    {
      "cell_type": "code",
      "source": [
        "def merge_dfs(df1, df2):\n",
        "  merged_df = pd.merge(df1, df2)\n",
        "  return merged_df"
      ],
      "metadata": {
        "id": "Vs15k83Kq0Ja"
      },
      "execution_count": 25,
      "outputs": []
    }
  ]
}