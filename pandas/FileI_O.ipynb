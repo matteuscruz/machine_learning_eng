{
  "nbformat": 4,
  "nbformat_minor": 0,
  "metadata": {
    "colab": {
      "name": "FileI/O.ipynb",
      "provenance": []
    },
    "kernelspec": {
      "name": "python3",
      "display_name": "Python 3"
    },
    "language_info": {
      "name": "python"
    }
  },
  "cells": [
    {
      "cell_type": "markdown",
      "source": [
        "# Reading data:"
      ],
      "metadata": {
        "id": "TavpvFkNKTpp"
      }
    },
    {
      "cell_type": "markdown",
      "source": [
        "### CSV"
      ],
      "metadata": {
        "id": "JxqEZHTrKWa5"
      }
    },
    {
      "cell_type": "code",
      "execution_count": null,
      "metadata": {
        "id": "fE9OHwvBKAX2"
      },
      "outputs": [],
      "source": [
        "# data.csv contains baseball data\n",
        "df = pd.read_csv('data.csv')\n",
        "# Newline to separate print statements\n",
        "print('{}\\n'.format(df))\n",
        "\n",
        "df = pd.read_csv('data.csv', index_col=0)\n",
        "print('{}\\n'.format(df))\n",
        "\n",
        "df = pd.read_csv('data.csv', index_col=1)\n",
        "print('{}\\n'.format(df))"
      ]
    },
    {
      "cell_type": "markdown",
      "source": [
        "### Excel"
      ],
      "metadata": {
        "id": "z9dZ4QW0KX6C"
      }
    },
    {
      "cell_type": "code",
      "source": [
        "# data.csv contains baseball data\n",
        "df = pd.read_excel('data.xlsx')\n",
        "# Newline to separate print statements\n",
        "print('{}\\n'.format(df))\n",
        "\n",
        "print('Sheet 1 (0-indexed) DataFrame:')\n",
        "df = pd.read_excel('data.xlsx', sheet_name=1)\n",
        "print('{}\\n'.format(df))\n",
        "\n",
        "print('MIL DataFrame:')\n",
        "df = pd.read_excel('data.xlsx', sheet_name='MIL')\n",
        "print('{}\\n'.format(df))\n",
        "\n",
        "# Sheets 0 and 1\n",
        "df_dict = pd.read_excel('data.xlsx', sheet_name=[0, 1])\n",
        "print('{}\\n'.format(df_dict[1]))\n",
        "\n",
        "# All Sheets\n",
        "df_dict = pd.read_excel('data.xlsx', sheet_name=None)\n",
        "print(df_dict.keys())"
      ],
      "metadata": {
        "id": "sJop4y7RKQTK"
      },
      "execution_count": null,
      "outputs": []
    },
    {
      "cell_type": "markdown",
      "source": [
        "### Json"
      ],
      "metadata": {
        "id": "wTQAaKsdKc2J"
      }
    },
    {
      "cell_type": "code",
      "source": [
        "# data is the JSON data (as a Python dict)\n",
        "print('{}\\n'.format(data))\n",
        "\n",
        "df1 = pd.read_json('data.json')\n",
        "print('{}\\n'.format(df1))\n",
        "\n",
        "df2 = pd.read_json('data.json', orient='index')\n",
        "print('{}\\n'.format(df2))"
      ],
      "metadata": {
        "id": "2aC807emKd01"
      },
      "execution_count": null,
      "outputs": []
    },
    {
      "cell_type": "markdown",
      "source": [
        "# Writing Files:"
      ],
      "metadata": {
        "id": "MYgUFbUMKgaQ"
      }
    },
    {
      "cell_type": "markdown",
      "source": [
        "### CSV"
      ],
      "metadata": {
        "id": "srecg-WCKlHx"
      }
    },
    {
      "cell_type": "code",
      "source": [
        "# Predefined mlb_df\n",
        "print('{}\\n'.format(mlb_df))\n",
        "\n",
        "# Index is kept when writing\n",
        "mlb_df.to_csv('data.csv')\n",
        "df = pd.read_csv('data.csv')\n",
        "print('{}\\n'.format(df))\n",
        "\n",
        "# Index is not kept when writing\n",
        "mlb_df.to_csv('data.csv', index=False)\n",
        "df = pd.read_csv('data.csv')\n",
        "print('{}\\n'.format(df))"
      ],
      "metadata": {
        "id": "BQl6dZqAKiue"
      },
      "execution_count": null,
      "outputs": []
    },
    {
      "cell_type": "markdown",
      "source": [
        "### Excel"
      ],
      "metadata": {
        "id": "253CQGeKKpgI"
      }
    },
    {
      "cell_type": "code",
      "source": [
        "# Predefined DataFrames\n",
        "print('{}\\n'.format(mlb_df1))\n",
        "print('{}\\n'.format(mlb_df2))\n",
        "\n",
        "with pd.ExcelWriter('data.xlsx') as writer:\n",
        "  mlb_df1.to_excel(writer, index=False, sheet_name='NYY')\n",
        "  mlb_df2.to_excel(writer, index=False, sheet_name='BOS')\n",
        "  \n",
        "df_dict = pd.read_excel('data.xlsx', sheet_name=None)\n",
        "print(df_dict.keys())\n",
        "print('{}\\n'.format(df_dict['BOS']))"
      ],
      "metadata": {
        "id": "_2R-GdqGKrxL"
      },
      "execution_count": null,
      "outputs": []
    },
    {
      "cell_type": "markdown",
      "source": [
        "### Json"
      ],
      "metadata": {
        "id": "G57HeLgsKsU6"
      }
    },
    {
      "cell_type": "code",
      "source": [
        "# Predefined df\n",
        "print('{}\\n'.format(df))\n",
        "\n",
        "df.to_json('data.json')\n",
        "df2 = pd.read_json('data.json')\n",
        "print('{}\\n'.format(df2))\n",
        "\n",
        "df.to_json('data.json', orient='index')\n",
        "df2 = pd.read_json('data.json')\n",
        "print('{}\\n'.format(df2))\n",
        "df2 = pd.read_json('data.json', orient='index')\n",
        "print('{}\\n'.format(df2))"
      ],
      "metadata": {
        "id": "lWGiOSjZKtqh"
      },
      "execution_count": null,
      "outputs": []
    },
    {
      "cell_type": "markdown",
      "source": [
        "# Time to code!"
      ],
      "metadata": {
        "id": "bqeFifFQKvwh"
      }
    },
    {
      "cell_type": "markdown",
      "source": [
        "The coding exercises in this chapter reading from CSV files containing baseball data, manipulating the data, then writing the resulting data into a new CSV file.\n",
        "\n",
        "First, we'll read from the two CSV files 'stats.csv' and 'salary.csv'. These files contain the stats and salaries, respectively, of various baseball players."
      ],
      "metadata": {
        "id": "YDRzS5nuKzAQ"
      }
    },
    {
      "cell_type": "code",
      "source": [
        "# Reading the files in CSV format:\n",
        "stats_df  = pd.read_csv(\"stats.csv\")\n",
        "salary_df = pd.read_csv(\"salary.csv\")"
      ],
      "metadata": {
        "id": "9M444vFGKw8H"
      },
      "execution_count": null,
      "outputs": []
    },
    {
      "cell_type": "markdown",
      "source": [
        "Rather than having two separate DataFrames, we want a single DataFrame that contains the yearly stats and salaries for each player. Therefore, we can just merge the stats_df and salary_df DataFrames."
      ],
      "metadata": {
        "id": "IbjcfWiDLJMJ"
      }
    },
    {
      "cell_type": "code",
      "source": [
        "# Merging the two data frames:\n",
        "df = pd.merge(stats_df, salary_df)"
      ],
      "metadata": {
        "id": "OGsR1HLjLJhj"
      },
      "execution_count": null,
      "outputs": []
    },
    {
      "cell_type": "markdown",
      "source": [
        "Finally, we write the merged DataFrame into the file named 'out.csv'. Since the original CSV files didn't label the rows, we'll make sure not to label the rows of 'out.csv'."
      ],
      "metadata": {
        "id": "fW0Nz2nSLVcI"
      }
    },
    {
      "cell_type": "code",
      "source": [
        "df.to_csv('out.csv', index=False)"
      ],
      "metadata": {
        "id": "t4FqK4UMLXWO"
      },
      "execution_count": null,
      "outputs": []
    },
    {
      "cell_type": "code",
      "source": [],
      "metadata": {
        "id": "ERjWHS4GLqLC"
      },
      "execution_count": null,
      "outputs": []
    }
  ]
}