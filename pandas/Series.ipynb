{
  "nbformat": 4,
  "nbformat_minor": 0,
  "metadata": {
    "colab": {
      "name": "Series.ipynb",
      "provenance": []
    },
    "kernelspec": {
      "name": "python3",
      "display_name": "Python 3"
    },
    "language_info": {
      "name": "python"
    }
  },
  "cells": [
    {
      "cell_type": "code",
      "execution_count": 1,
      "metadata": {
        "id": "NdqwGkDTV9WG"
      },
      "outputs": [],
      "source": [
        "# Importando as bibliotecas necessárias\n",
        "import pandas as pd\n",
        "import numpy as np"
      ]
    },
    {
      "cell_type": "markdown",
      "source": [
        "## 1-D data"
      ],
      "metadata": {
        "id": "-_Iesyh5XTn2"
      }
    },
    {
      "cell_type": "code",
      "source": [
        "# Criando a série\n",
        "series = pd.Series(dtype='float64')"
      ],
      "metadata": {
        "id": "27klcJwFWnbw"
      },
      "execution_count": 2,
      "outputs": []
    },
    {
      "cell_type": "code",
      "source": [
        "# Adicionando uma linha\n",
        "print('{}\\n'.format(series))"
      ],
      "metadata": {
        "colab": {
          "base_uri": "https://localhost:8080/"
        },
        "id": "U9JR23g7WxrI",
        "outputId": "fbe77787-50e0-46c8-a54a-4162a01e69c3"
      },
      "execution_count": 3,
      "outputs": [
        {
          "output_type": "stream",
          "name": "stdout",
          "text": [
            "Series([], dtype: float64)\n",
            "\n"
          ]
        }
      ]
    },
    {
      "cell_type": "code",
      "source": [
        "# Adicionando um valor a série\n",
        "series = pd.Series(5)\n",
        "print('{}\\n'.format(series))"
      ],
      "metadata": {
        "colab": {
          "base_uri": "https://localhost:8080/"
        },
        "id": "BgIKxbWxW8B1",
        "outputId": "855e0fa9-0d1c-41b1-a6d4-3b727ca48195"
      },
      "execution_count": 5,
      "outputs": [
        {
          "output_type": "stream",
          "name": "stdout",
          "text": [
            "0    5\n",
            "dtype: int64\n",
            "\n"
          ]
        }
      ]
    },
    {
      "cell_type": "code",
      "source": [
        "# Adicionando um valor a série\n",
        "series = pd.Series([1, 2, 3])\n",
        "print('{}\\n'.format(series))"
      ],
      "metadata": {
        "colab": {
          "base_uri": "https://localhost:8080/"
        },
        "id": "eMgntIPXW_11",
        "outputId": "12683e6b-ab4a-4fae-f0a2-edb32c9dcee4"
      },
      "execution_count": 8,
      "outputs": [
        {
          "output_type": "stream",
          "name": "stdout",
          "text": [
            "0    1\n",
            "1    2\n",
            "2    3\n",
            "dtype: int64\n",
            "\n"
          ]
        }
      ]
    },
    {
      "cell_type": "code",
      "source": [
        "# Ipcasting\n",
        "series = pd.Series([1, 2.2]) \n",
        "print('{}\\n'.format(series))"
      ],
      "metadata": {
        "colab": {
          "base_uri": "https://localhost:8080/"
        },
        "id": "qke2XT6hXGyW",
        "outputId": "011da175-edef-44cd-c3bc-9aea0986cf2a"
      },
      "execution_count": 9,
      "outputs": [
        {
          "output_type": "stream",
          "name": "stdout",
          "text": [
            "0    1.0\n",
            "1    2.2\n",
            "dtype: float64\n",
            "\n"
          ]
        }
      ]
    },
    {
      "cell_type": "code",
      "source": [
        "# Convertendo um vetor Numpy em uma Série Pandas\n",
        "arr = np.array([1, 2])\n",
        "series = pd.Series(arr, dtype=np.float32)\n",
        "print('{}\\n'.format(series))"
      ],
      "metadata": {
        "colab": {
          "base_uri": "https://localhost:8080/"
        },
        "id": "3BlIPA__XOlk",
        "outputId": "91a15c2e-85eb-47a1-f34d-f91d2fdc63c5"
      },
      "execution_count": 11,
      "outputs": [
        {
          "output_type": "stream",
          "name": "stdout",
          "text": [
            "0    1.0\n",
            "1    2.0\n",
            "dtype: float32\n",
            "\n"
          ]
        }
      ]
    },
    {
      "cell_type": "code",
      "source": [
        "# Criando um objeto Série\n",
        "series = pd.Series([[1, 2], [3, 4]])\n",
        "print('{}\\n'.format(series))"
      ],
      "metadata": {
        "colab": {
          "base_uri": "https://localhost:8080/"
        },
        "id": "5N4Tl4UCXVHH",
        "outputId": "fd1ae2dd-d76e-4e26-9d40-ef6220ae3d37"
      },
      "execution_count": 13,
      "outputs": [
        {
          "output_type": "stream",
          "name": "stdout",
          "text": [
            "0    [1, 2]\n",
            "1    [3, 4]\n",
            "dtype: object\n",
            "\n"
          ]
        }
      ]
    },
    {
      "cell_type": "markdown",
      "source": [
        "# Index"
      ],
      "metadata": {
        "id": "SVxm3lMEXhs2"
      }
    },
    {
      "cell_type": "code",
      "source": [
        "# Personalizando os índices da Série\n",
        "series = pd.Series([1, 2, 3], index=['a', 'b', 'c'])\n",
        "print('{}\\n'.format(series))"
      ],
      "metadata": {
        "colab": {
          "base_uri": "https://localhost:8080/"
        },
        "id": "tdudhzmsYlDR",
        "outputId": "10f9a0e6-c8f0-459d-89c0-8a11f8091565"
      },
      "execution_count": 15,
      "outputs": [
        {
          "output_type": "stream",
          "name": "stdout",
          "text": [
            "a    1\n",
            "b    2\n",
            "c    3\n",
            "dtype: int64\n",
            "\n"
          ]
        }
      ]
    },
    {
      "cell_type": "code",
      "source": [
        "# Personalizando os índices da Série\n",
        "series = pd.Series([1, 2, 3], index=['a', 8, 0.3])\n",
        "print('{}\\n'.format(series))"
      ],
      "metadata": {
        "colab": {
          "base_uri": "https://localhost:8080/"
        },
        "id": "2quTRu2dXdFS",
        "outputId": "543f00a2-f4dd-4589-dd1f-92c2dc8c4e9d"
      },
      "execution_count": 16,
      "outputs": [
        {
          "output_type": "stream",
          "name": "stdout",
          "text": [
            "a      1\n",
            "8      2\n",
            "0.3    3\n",
            "dtype: int64\n",
            "\n"
          ]
        }
      ]
    },
    {
      "cell_type": "markdown",
      "source": [
        "# Dictionary input#"
      ],
      "metadata": {
        "id": "3zPpflAAYw21"
      }
    },
    {
      "cell_type": "code",
      "source": [
        "# Adicionando elementos em uma Série no formato dicionário\n",
        "series = pd.Series({'a':1, 'b':2, 'c':3})\n",
        "print('{}\\n'.format(series))\n"
      ],
      "metadata": {
        "colab": {
          "base_uri": "https://localhost:8080/"
        },
        "id": "u8c3eLsqYuuC",
        "outputId": "9cab06c0-6b94-4c74-9f8e-f48ccc11b8af"
      },
      "execution_count": 17,
      "outputs": [
        {
          "output_type": "stream",
          "name": "stdout",
          "text": [
            "a    1\n",
            "b    2\n",
            "c    3\n",
            "dtype: int64\n",
            "\n"
          ]
        }
      ]
    },
    {
      "cell_type": "code",
      "source": [
        "series = pd.Series({'b':2, 'a':1, 'c':3})\n",
        "print('{}\\n'.format(series))"
      ],
      "metadata": {
        "colab": {
          "base_uri": "https://localhost:8080/"
        },
        "id": "qbdd_YApY4bv",
        "outputId": "15e96230-f52c-42d3-a691-c3cbcdf62d61"
      },
      "execution_count": 18,
      "outputs": [
        {
          "output_type": "stream",
          "name": "stdout",
          "text": [
            "b    2\n",
            "a    1\n",
            "c    3\n",
            "dtype: int64\n",
            "\n"
          ]
        }
      ]
    },
    {
      "cell_type": "markdown",
      "source": [
        "# Time to Code!"
      ],
      "metadata": {
        "id": "HummdQDRY9Xz"
      }
    },
    {
      "cell_type": "markdown",
      "source": [
        "The first Series we create will contain basic floating point numbers. The list we use to initialize the Series is [1, 3, 5.2].\n",
        "\n"
      ],
      "metadata": {
        "id": "a-ERtp7bZIXT"
      }
    },
    {
      "cell_type": "code",
      "source": [
        "s1  = pd.Series([1, 3, 5.2])\n",
        "print(repr(s1))"
      ],
      "metadata": {
        "colab": {
          "base_uri": "https://localhost:8080/"
        },
        "id": "bmfCWcc0Y6gF",
        "outputId": "13bbe0d0-9d26-4dbc-a4cb-a1889d217630"
      },
      "execution_count": 23,
      "outputs": [
        {
          "output_type": "stream",
          "name": "stdout",
          "text": [
            "0    1.0\n",
            "1    3.0\n",
            "2    5.2\n",
            "dtype: float64\n"
          ]
        }
      ]
    },
    {
      "cell_type": "markdown",
      "source": [
        "The second Series we create comes from performing elemental multiplication on s1 using a separate list of floating point numbers."
      ],
      "metadata": {
        "id": "595BZVc7ZLLj"
      }
    },
    {
      "cell_type": "code",
      "source": [
        "s2 = pd.Series([0.1, 0.2, 0.3])\n",
        "s2 = s1 * s2\n",
        "print(repr(s2))"
      ],
      "metadata": {
        "colab": {
          "base_uri": "https://localhost:8080/"
        },
        "id": "hwep_lobZEhF",
        "outputId": "07a34480-1d1a-4c73-c86f-5d51285b7dc2"
      },
      "execution_count": 22,
      "outputs": [
        {
          "output_type": "stream",
          "name": "stdout",
          "text": [
            "0    0.10\n",
            "1    0.60\n",
            "2    1.56\n",
            "dtype: float64\n"
          ]
        }
      ]
    },
    {
      "cell_type": "markdown",
      "source": [
        "We'll create another Series, this time with integers. The list we use to initialize this Series is [1, 3, 8, np.nan]. This Series will also have row labels, which will be ['a', 'b', 'c', 'd']."
      ],
      "metadata": {
        "id": "BKycjEPLZi6z"
      }
    },
    {
      "cell_type": "code",
      "source": [
        "s3 = pd.Series({'a':1, 'b':3, 'c':8, 'd':np.nan})\n",
        "print(repr(s3))"
      ],
      "metadata": {
        "colab": {
          "base_uri": "https://localhost:8080/"
        },
        "id": "2nxAxho2ZSO0",
        "outputId": "808b9144-4596-4582-ad0c-fa7344a922c5"
      },
      "execution_count": 25,
      "outputs": [
        {
          "output_type": "stream",
          "name": "stdout",
          "text": [
            "a    1.0\n",
            "b    3.0\n",
            "c    8.0\n",
            "d    NaN\n",
            "dtype: float64\n"
          ]
        }
      ]
    },
    {
      "cell_type": "markdown",
      "source": [
        "The final Series we create will be initialized from a Python dictionary. The dictionary will have key-value pairs 'a':0, 'b':1, and 'c':2."
      ],
      "metadata": {
        "id": "LGTO6-0CaB7C"
      }
    },
    {
      "cell_type": "code",
      "source": [
        "s4 = pd.Series({'a':0, 'b':1, 'c':2})\n",
        "print(repr(s4))"
      ],
      "metadata": {
        "colab": {
          "base_uri": "https://localhost:8080/"
        },
        "id": "V2n0XerXZ0RZ",
        "outputId": "7fcfb0f1-670c-4341-d4dc-5c17b14b66f9"
      },
      "execution_count": 27,
      "outputs": [
        {
          "output_type": "stream",
          "name": "stdout",
          "text": [
            "a    0\n",
            "b    1\n",
            "c    2\n",
            "dtype: int64\n"
          ]
        }
      ]
    },
    {
      "cell_type": "code",
      "source": [
        ""
      ],
      "metadata": {
        "id": "OolKKEy1aNPK"
      },
      "execution_count": null,
      "outputs": []
    }
  ]
}