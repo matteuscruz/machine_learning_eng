{
  "nbformat": 4,
  "nbformat_minor": 0,
  "metadata": {
    "colab": {
      "name": "Saving data.ipynb",
      "provenance": []
    },
    "kernelspec": {
      "name": "python3",
      "display_name": "Python 3"
    },
    "language_info": {
      "name": "python"
    }
  },
  "cells": [
    {
      "cell_type": "code",
      "execution_count": 1,
      "metadata": {
        "id": "eqpLwnp3UFnm"
      },
      "outputs": [],
      "source": [
        "# Importando a biblioteca numpy\n",
        "import numpy as np"
      ]
    },
    {
      "cell_type": "markdown",
      "source": [
        "## Save"
      ],
      "metadata": {
        "id": "E-SxX2dFUSSM"
      }
    },
    {
      "cell_type": "code",
      "source": [
        "# Criando um vetor\n",
        "arr = np.array([1, 2, 3])"
      ],
      "metadata": {
        "id": "u2_nup0fURnu"
      },
      "execution_count": 2,
      "outputs": []
    },
    {
      "cell_type": "code",
      "source": [
        "# Salvando o vetor (Com a extensão)\n",
        "np.save('arr.npy', arr)"
      ],
      "metadata": {
        "id": "4CCIWK7mUXmv"
      },
      "execution_count": 3,
      "outputs": []
    },
    {
      "cell_type": "code",
      "source": [
        "# Salvando o vetor\n",
        "np.save('arr', arr)"
      ],
      "metadata": {
        "id": "cjdAdNKOUd18"
      },
      "execution_count": 5,
      "outputs": []
    },
    {
      "cell_type": "markdown",
      "source": [
        "## Loading"
      ],
      "metadata": {
        "id": "GFuxartmUqgY"
      }
    },
    {
      "cell_type": "code",
      "source": [
        "# Carregando o arquivo salvo\n",
        "load_arr = np.load('arr.npy')"
      ],
      "metadata": {
        "id": "Gmv4T8mtUjjH"
      },
      "execution_count": 6,
      "outputs": []
    },
    {
      "cell_type": "code",
      "source": [
        "# Imprimindo o arquivo carregado\n",
        "print(repr(load_arr))"
      ],
      "metadata": {
        "colab": {
          "base_uri": "https://localhost:8080/"
        },
        "id": "MusMtnfmUyw6",
        "outputId": "0c8d987d-69da-4a89-c096-f9fc4e41465e"
      },
      "execution_count": 7,
      "outputs": [
        {
          "output_type": "stream",
          "name": "stdout",
          "text": [
            "array([1, 2, 3])\n"
          ]
        }
      ]
    },
    {
      "cell_type": "markdown",
      "source": [
        "## Time to code!"
      ],
      "metadata": {
        "id": "roL8C9uKU6ek"
      }
    },
    {
      "cell_type": "code",
      "source": [
        "def save_points(save_file):\n",
        "  points = np.random.uniform(low=-2.5, high=2.5, size=(100, 2))\n",
        "  np.save(save_file, points)"
      ],
      "metadata": {
        "id": "Px31QqQUU4q0"
      },
      "execution_count": 9,
      "outputs": []
    },
    {
      "cell_type": "code",
      "source": [
        ""
      ],
      "metadata": {
        "id": "ocKFbxe_VQyJ"
      },
      "execution_count": null,
      "outputs": []
    }
  ]
}