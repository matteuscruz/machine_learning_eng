{
  "nbformat": 4,
  "nbformat_minor": 0,
  "metadata": {
    "colab": {
      "name": "ML Class #01.ipynb",
      "provenance": []
    },
    "kernelspec": {
      "name": "python3",
      "display_name": "Python 3"
    },
    "language_info": {
      "name": "python"
    }
  },
  "cells": [
    {
      "cell_type": "markdown",
      "source": [
        "## Matrizes e tipos"
      ],
      "metadata": {
        "id": "c91iwSVp-vkv"
      }
    },
    {
      "cell_type": "code",
      "execution_count": 1,
      "metadata": {
        "id": "LVyGptOl9iaO"
      },
      "outputs": [],
      "source": [
        "# Importando as bibliotecas necessárias\n",
        "import numpy as np"
      ]
    },
    {
      "cell_type": "code",
      "source": [
        "# Uma simples matriz de valores inteiros\n",
        "arr = np.array([[0,1,2], \n",
        "                [3,4,5]],\n",
        "               dtype=np.float32)"
      ],
      "metadata": {
        "id": "4n2D7oqE9nmg"
      },
      "execution_count": 2,
      "outputs": []
    },
    {
      "cell_type": "code",
      "source": [
        "# Imprimindo os valores contidos da matriz\n",
        "print(arr)"
      ],
      "metadata": {
        "colab": {
          "base_uri": "https://localhost:8080/"
        },
        "id": "YE_W-2TO9ypE",
        "outputId": "bd7d8009-cc07-4f44-d00e-92bacbfa463b"
      },
      "execution_count": 4,
      "outputs": [
        {
          "output_type": "stream",
          "name": "stdout",
          "text": [
            "[[0. 1. 2.]\n",
            " [3. 4. 5.]]\n"
          ]
        }
      ]
    },
    {
      "cell_type": "code",
      "source": [
        "# Uma simples matrix com valores reais e inteiros\n",
        "arr = np.array([0, 0.1, 2])"
      ],
      "metadata": {
        "id": "U90OWkjF91FK"
      },
      "execution_count": 5,
      "outputs": []
    },
    {
      "cell_type": "code",
      "source": [
        "# Imprimindo os valores contidos na matriz\n",
        "print(repr(arr))"
      ],
      "metadata": {
        "colab": {
          "base_uri": "https://localhost:8080/"
        },
        "id": "VjEZwlBp-bEp",
        "outputId": "355b748a-5ea2-4dfb-9c4b-90a2a31385a7"
      },
      "execution_count": 6,
      "outputs": [
        {
          "output_type": "stream",
          "name": "stdout",
          "text": [
            "array([0. , 0.1, 2. ])\n"
          ]
        }
      ]
    },
    {
      "cell_type": "markdown",
      "source": [
        "Todos os valores agora são do tipo \"float\" "
      ],
      "metadata": {
        "id": "0ZrN5bPh-p3K"
      }
    },
    {
      "cell_type": "markdown",
      "source": [
        "## Copiando valores entre matrizes"
      ],
      "metadata": {
        "id": "lPmPKYjI-3si"
      }
    },
    {
      "cell_type": "code",
      "source": [
        "# Criando os vetores A e B\n",
        "vector_a = np.array([0, 1])\n",
        "vector_b = np.array([9, 8])"
      ],
      "metadata": {
        "id": "7CCzS1m2-jIg"
      },
      "execution_count": 9,
      "outputs": []
    },
    {
      "cell_type": "code",
      "source": [
        "# Copiando os valores de A para um novo vetor C\n",
        "vector_c = vector_a"
      ],
      "metadata": {
        "id": "jJ08NwTg_PCP"
      },
      "execution_count": 10,
      "outputs": []
    },
    {
      "cell_type": "code",
      "source": [
        "# Imprimindo os valores contidos nos vetores:\n",
        "print('Vetor A: ', vector_a)\n",
        "print('Vetor C: ', vector_c)"
      ],
      "metadata": {
        "colab": {
          "base_uri": "https://localhost:8080/"
        },
        "id": "a3P8yX_O_X-_",
        "outputId": "05cefcb4-befb-4ea3-ac58-b48802d7206d"
      },
      "execution_count": 11,
      "outputs": [
        {
          "output_type": "stream",
          "name": "stdout",
          "text": [
            "Vetor A:  [0 1]\n",
            "Vetor C:  [0 1]\n"
          ]
        }
      ]
    },
    {
      "cell_type": "code",
      "source": [
        "# Alterando o valor no índice 0 do vetor C:\n",
        "vector_c[0] = 5"
      ],
      "metadata": {
        "id": "_DLBGPte_5OZ"
      },
      "execution_count": 13,
      "outputs": []
    },
    {
      "cell_type": "code",
      "source": [
        "# Imprimindo os valores contidos nos vetores:\n",
        "print('Vetor A: ', vector_a)\n",
        "print('Vetor C: ', vector_c)"
      ],
      "metadata": {
        "colab": {
          "base_uri": "https://localhost:8080/"
        },
        "id": "g55eSu2FAAWJ",
        "outputId": "94c4c981-192e-4563-b57a-b0860eaef42f"
      },
      "execution_count": 14,
      "outputs": [
        {
          "output_type": "stream",
          "name": "stdout",
          "text": [
            "Vetor A:  [5 1]\n",
            "Vetor C:  [5 1]\n"
          ]
        }
      ]
    },
    {
      "cell_type": "markdown",
      "source": [
        "O pacote Numpy de modo análogo as listas em Python não criam uma nova matriz com os comandos apresentados logo acima. Portanto, qualquer modificação feita no vector_a irá refletir no vector_c e vice-versa."
      ],
      "metadata": {
        "id": "9x5r_myuAHLq"
      }
    },
    {
      "cell_type": "code",
      "source": [
        "# Copiando os valores de A para um novo vetor DÇ\n",
        "vector_d = vector_a.copy()"
      ],
      "metadata": {
        "id": "phd4deBXAFWb"
      },
      "execution_count": 15,
      "outputs": []
    },
    {
      "cell_type": "code",
      "source": [
        "# Imprimindo os valores contidos nos vetores:\n",
        "print('Vetor A: ', vector_a)\n",
        "print('Vetor D: ', vector_d)"
      ],
      "metadata": {
        "colab": {
          "base_uri": "https://localhost:8080/"
        },
        "id": "qoi9zWhmAshz",
        "outputId": "3743f207-39f2-422f-bae2-81984049ed81"
      },
      "execution_count": 16,
      "outputs": [
        {
          "output_type": "stream",
          "name": "stdout",
          "text": [
            "Vetor A:  [5 1]\n",
            "Vetor D:  [5 1]\n"
          ]
        }
      ]
    },
    {
      "cell_type": "code",
      "source": [
        "# Alterando o valor no índice 0 do vetor D:\n",
        "vector_d[0] = 0"
      ],
      "metadata": {
        "id": "vHQlMhIfAx4J"
      },
      "execution_count": 17,
      "outputs": []
    },
    {
      "cell_type": "code",
      "source": [
        "# Imprimindo os valores contidos nos vetores:\n",
        "print('Vetor A: ', vector_a)\n",
        "print('Vetor D: ', vector_d)"
      ],
      "metadata": {
        "colab": {
          "base_uri": "https://localhost:8080/"
        },
        "id": "zXT2kikmA5Ei",
        "outputId": "954fd6f0-45cf-443f-fa1c-509b28847c78"
      },
      "execution_count": 18,
      "outputs": [
        {
          "output_type": "stream",
          "name": "stdout",
          "text": [
            "Vetor A:  [5 1]\n",
            "Vetor C:  [0 1]\n"
          ]
        }
      ]
    },
    {
      "cell_type": "markdown",
      "source": [
        "Quando utilizamos a função \"copy()\" conseguimos criar uma nova matriz com os valores contidos em outra matriz."
      ],
      "metadata": {
        "id": "G1rGTFVcA-su"
      }
    },
    {
      "cell_type": "markdown",
      "source": [
        "## Fundir"
      ],
      "metadata": {
        "id": "Fj9tBQvnBIFs"
      }
    },
    {
      "cell_type": "code",
      "source": [
        "# Criando um novo vetor\n",
        "arr = np.array([0, 1, 2])"
      ],
      "metadata": {
        "id": "HfDMFJsFA9US"
      },
      "execution_count": 19,
      "outputs": []
    },
    {
      "cell_type": "code",
      "source": [
        "# Imprimindo o tipo do vetor\n",
        "print(arr.dtype)"
      ],
      "metadata": {
        "colab": {
          "base_uri": "https://localhost:8080/"
        },
        "id": "H_Wb6MBqA7bl",
        "outputId": "0bd4a460-9b61-41ee-e84c-37ca979b69fe"
      },
      "execution_count": 20,
      "outputs": [
        {
          "output_type": "stream",
          "name": "stdout",
          "text": [
            "int64\n"
          ]
        }
      ]
    },
    {
      "cell_type": "code",
      "source": [
        "# Alterando o tipo do vetor\n",
        "arr = arr.astype(np.float32)"
      ],
      "metadata": {
        "id": "DI5sfRqXFVR6"
      },
      "execution_count": 21,
      "outputs": []
    },
    {
      "cell_type": "code",
      "source": [
        "# Imprimindo o tipo do vetor\n",
        "print(arr.dtype)"
      ],
      "metadata": {
        "colab": {
          "base_uri": "https://localhost:8080/"
        },
        "id": "derzoLqEFjXL",
        "outputId": "559b9e7e-a2f0-4d52-a216-af7fc6650b3f"
      },
      "execution_count": 23,
      "outputs": [
        {
          "output_type": "stream",
          "name": "stdout",
          "text": [
            "float32\n"
          ]
        }
      ]
    },
    {
      "cell_type": "markdown",
      "source": [
        "## Not a Number (NaN) value"
      ],
      "metadata": {
        "id": "eFSIW7odFsz5"
      }
    },
    {
      "cell_type": "code",
      "source": [
        "# Criando um vetor com NaN values\n",
        "arr = np.array([np.nan, 1, 2])\n",
        "\n",
        "# Imprimindo os valores contidos na matriz\n",
        "print(repr(arr))"
      ],
      "metadata": {
        "colab": {
          "base_uri": "https://localhost:8080/"
        },
        "id": "2sLZMnXqFleb",
        "outputId": "5449ccd8-27ef-479a-8243-64a45a64d0e1"
      },
      "execution_count": 25,
      "outputs": [
        {
          "output_type": "stream",
          "name": "stdout",
          "text": [
            "array([nan,  1.,  2.])\n"
          ]
        }
      ]
    },
    {
      "cell_type": "code",
      "source": [
        "arr = np.array([np.nan, 'abc'])\n",
        "print(repr(arr))"
      ],
      "metadata": {
        "colab": {
          "base_uri": "https://localhost:8080/"
        },
        "id": "hXab3y4IGfBB",
        "outputId": "64d1f804-1f30-4277-ea5e-589d37be4c69"
      },
      "execution_count": 32,
      "outputs": [
        {
          "output_type": "stream",
          "name": "stdout",
          "text": [
            "array(['nan', 'abc'], dtype='<U32')\n"
          ]
        }
      ]
    },
    {
      "cell_type": "code",
      "source": [
        "np.array([np.nan, 1, 2], dtype=np.float32)"
      ],
      "metadata": {
        "colab": {
          "base_uri": "https://localhost:8080/"
        },
        "id": "SHLLVny-F7Sk",
        "outputId": "0b13dd0b-4dec-465f-e19e-69510055ae54"
      },
      "execution_count": 31,
      "outputs": [
        {
          "output_type": "execute_result",
          "data": {
            "text/plain": [
              "array([nan,  1.,  2.], dtype=float32)"
            ]
          },
          "metadata": {},
          "execution_count": 31
        }
      ]
    },
    {
      "cell_type": "markdown",
      "source": [
        "## Infinito"
      ],
      "metadata": {
        "id": "QmChH-CfIZnd"
      }
    },
    {
      "cell_type": "code",
      "source": [
        "# Imprimindo um valor muito alto\n",
        "print(np.inf > 1000000)"
      ],
      "metadata": {
        "colab": {
          "base_uri": "https://localhost:8080/"
        },
        "id": "UWmIfy8nGcb0",
        "outputId": "03f42d4f-6f43-4ffe-9157-9f53fd207f72"
      },
      "execution_count": 33,
      "outputs": [
        {
          "output_type": "stream",
          "name": "stdout",
          "text": [
            "True\n"
          ]
        }
      ]
    },
    {
      "cell_type": "code",
      "source": [
        "# Criando um vetor com valor +infinito\n",
        "arr = np.array([np.inf, 5])\n",
        "\n",
        "# Imprimindo os valores contidos no vetor\n",
        "print(repr(arr))"
      ],
      "metadata": {
        "colab": {
          "base_uri": "https://localhost:8080/"
        },
        "id": "oE5vwuPHIj6c",
        "outputId": "7ca32b0d-0f5d-4731-c3e9-9f031d9fc50d"
      },
      "execution_count": 35,
      "outputs": [
        {
          "output_type": "stream",
          "name": "stdout",
          "text": [
            "array([inf,  5.])\n"
          ]
        }
      ]
    },
    {
      "cell_type": "code",
      "source": [
        "# Criando um vetor com valor -infinito\n",
        "arr = np.array([-np.inf, 1])\n",
        "\n",
        "# Imprimindo os valores contidos no vetor\n",
        "print(repr(arr))"
      ],
      "metadata": {
        "colab": {
          "base_uri": "https://localhost:8080/"
        },
        "id": "Qm_6neaiKksq",
        "outputId": "f633099d-5922-4485-80d2-668cfef97bdb"
      },
      "execution_count": 36,
      "outputs": [
        {
          "output_type": "stream",
          "name": "stdout",
          "text": [
            "array([-inf,   1.])\n"
          ]
        }
      ]
    },
    {
      "cell_type": "markdown",
      "source": [
        "## Exercícios"
      ],
      "metadata": {
        "id": "szHZQeiTK7L9"
      }
    },
    {
      "cell_type": "markdown",
      "source": [
        "Exercício 1"
      ],
      "metadata": {
        "id": "2hQgt18MM5zu"
      }
    },
    {
      "cell_type": "code",
      "source": [
        "# Criando o vetor com os valores propostos: \n",
        "arr = np.array([np.nan, 2, 3, 4, 5])"
      ],
      "metadata": {
        "id": "5MX4bpWGK4Gt"
      },
      "execution_count": 37,
      "outputs": []
    },
    {
      "cell_type": "markdown",
      "source": [
        "Exercício 2"
      ],
      "metadata": {
        "id": "DGT6SMTBM7bq"
      }
    },
    {
      "cell_type": "code",
      "source": [
        "# Copiano o vetor \n",
        "arr2 = arr.copy()\n",
        "arr2[0] = 10"
      ],
      "metadata": {
        "id": "12JpVkO2LHtV"
      },
      "execution_count": 40,
      "outputs": []
    },
    {
      "cell_type": "markdown",
      "source": [
        "Exercício 3 "
      ],
      "metadata": {
        "id": "4wIOhV5oM8r-"
      }
    },
    {
      "cell_type": "code",
      "source": [
        "# Criando o primeiro vetor do tipo float \n",
        "float_arr = np.array([1, 5.4, 3])\n",
        "\n",
        "# Criando o segundo vetor do tipo inteiro para conversão\n",
        "float_arr2 = np.array([1, 5.4, 3], np.int32)\n",
        "\n",
        "# Convertendo o segundo vetor para o tipo float32\n",
        "float_arr2 = arr2.astype(np.float32)"
      ],
      "metadata": {
        "id": "h2rfT6DKLTy8"
      },
      "execution_count": 45,
      "outputs": []
    },
    {
      "cell_type": "markdown",
      "source": [
        "Exercício 4"
      ],
      "metadata": {
        "id": "BPyaKPmHNHhc"
      }
    },
    {
      "cell_type": "code",
      "source": [
        "# Criando a matriz \n",
        "matrix = np.array([[1, 2, 3],\n",
        "                   [4, 5, 6]],\n",
        "                  dtype=np.float32)"
      ],
      "metadata": {
        "id": "Sj4pfZmfL65b"
      },
      "execution_count": 46,
      "outputs": []
    }
  ]
}