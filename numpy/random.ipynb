{
  "nbformat": 4,
  "nbformat_minor": 0,
  "metadata": {
    "colab": {
      "name": "random.ipynb",
      "provenance": []
    },
    "kernelspec": {
      "name": "python3",
      "display_name": "Python 3"
    },
    "language_info": {
      "name": "python"
    }
  },
  "cells": [
    {
      "cell_type": "code",
      "execution_count": null,
      "metadata": {
        "id": "wVJQuotUyDF6"
      },
      "outputs": [],
      "source": [
        "# Importando a biblioteca numpy\n",
        "import numpy as np"
      ]
    },
    {
      "cell_type": "markdown",
      "source": [
        "# Random integers"
      ],
      "metadata": {
        "id": "LZO_zpc7yhdX"
      }
    },
    {
      "cell_type": "code",
      "source": [
        "# Gerar diversos valores aleatorios\n",
        "print('Valor 1: ', np.random.randint(10))\n",
        "print('Valor 2: ', np.random.randint(10))\n",
        "print('Valor 3: ', np.random.randint(10, high=20))"
      ],
      "metadata": {
        "colab": {
          "base_uri": "https://localhost:8080/"
        },
        "id": "nIL1IXMPygp8",
        "outputId": "fa7a49dc-b4ba-4693-8a07-22c948f706df"
      },
      "execution_count": null,
      "outputs": [
        {
          "output_type": "stream",
          "name": "stdout",
          "text": [
            "Valor 1:  8\n",
            "Valor 2:  6\n",
            "Valor 3:  19\n"
          ]
        }
      ]
    },
    {
      "cell_type": "code",
      "source": [
        "# Gerando uma matriz aleatoria\n",
        "random_arr = np.random.randint(-3, high=14, size=(2, 2))\n",
        "print(repr(random_arr))"
      ],
      "metadata": {
        "colab": {
          "base_uri": "https://localhost:8080/"
        },
        "id": "um3lhmQ3yvYx",
        "outputId": "c3355712-a66c-451f-907f-5e022045c725"
      },
      "execution_count": null,
      "outputs": [
        {
          "output_type": "stream",
          "name": "stdout",
          "text": [
            "array([[ 2, -1],\n",
            "       [ 9,  8]])\n"
          ]
        }
      ]
    },
    {
      "cell_type": "markdown",
      "source": [
        "# Funções utilitárias"
      ],
      "metadata": {
        "id": "0pm1_F0gzicb"
      }
    },
    {
      "cell_type": "code",
      "source": [
        "# Gerar uma semente\n",
        "np.random.seed(1)"
      ],
      "metadata": {
        "id": "P7m2J7_mzOAW"
      },
      "execution_count": null,
      "outputs": []
    },
    {
      "cell_type": "code",
      "source": [
        "# Gerar um valor aleatorio\n",
        "print(np.random.randint(10))"
      ],
      "metadata": {
        "colab": {
          "base_uri": "https://localhost:8080/"
        },
        "id": "X9s_GEUxzpAB",
        "outputId": "4be8cd09-ba27-492e-a347-7ace542f1d97"
      },
      "execution_count": null,
      "outputs": [
        {
          "output_type": "stream",
          "name": "stdout",
          "text": [
            "5\n"
          ]
        }
      ]
    },
    {
      "cell_type": "code",
      "source": [
        "# Gerar uma matriz aleatorio\n",
        "random_arr = np.random.randint(3, high=100, size=(2, 2))\n",
        "print(repr(random_arr))"
      ],
      "metadata": {
        "colab": {
          "base_uri": "https://localhost:8080/"
        },
        "id": "O5Ifd3O2ztQg",
        "outputId": "e439655b-22e6-439d-fe17-d54ae44d5e99"
      },
      "execution_count": null,
      "outputs": [
        {
          "output_type": "stream",
          "name": "stdout",
          "text": [
            "array([[12, 78],\n",
            "       [ 8, 82]])\n"
          ]
        }
      ]
    },
    {
      "cell_type": "code",
      "source": [
        "# Gerar uma semente\n",
        "np.random.seed(2)"
      ],
      "metadata": {
        "id": "gNpLsua70DR8"
      },
      "execution_count": null,
      "outputs": []
    },
    {
      "cell_type": "code",
      "source": [
        "# Gerar um valor aleatorio\n",
        "print(np.random.randint(10))"
      ],
      "metadata": {
        "colab": {
          "base_uri": "https://localhost:8080/"
        },
        "id": "9Akie7lxzu7b",
        "outputId": "528d3ee5-e0d5-4bba-eae8-13ff137fa87d"
      },
      "execution_count": null,
      "outputs": [
        {
          "output_type": "stream",
          "name": "stdout",
          "text": [
            "8\n"
          ]
        }
      ]
    },
    {
      "cell_type": "code",
      "source": [
        "# Gerar uma matriz aleatorio\n",
        "random_arr = np.random.randint(3, high=100, size=(2, 2))\n",
        "print(repr(random_arr))"
      ],
      "metadata": {
        "colab": {
          "base_uri": "https://localhost:8080/"
        },
        "id": "dvBj_HNR0Ix0",
        "outputId": "759e54ab-21e8-4ced-b0f5-254de72d4bee"
      },
      "execution_count": null,
      "outputs": [
        {
          "output_type": "stream",
          "name": "stdout",
          "text": [
            "array([[18, 75],\n",
            "       [25, 46]])\n"
          ]
        }
      ]
    },
    {
      "cell_type": "code",
      "source": [
        "np.random.seed(1)\n",
        "print(np.random.randint(10))\n",
        "random_arr = np.random.randint(3, high=100,\n",
        "                               size=(2, 2))\n",
        "print(repr(random_arr))\n",
        "\n",
        "np.random.seed(2)\n",
        "print(np.random.randint(10))\n",
        "random_arr = np.random.randint(3, high=100,\n",
        "                               size=(2, 2))\n",
        "print(repr(random_arr))\n",
        "\n",
        "np.random.seed(1)\n",
        "print(np.random.randint(10))\n",
        "random_arr = np.random.randint(3, high=100,\n",
        "                               size=(2, 2))\n",
        "print(repr(random_arr))"
      ],
      "metadata": {
        "colab": {
          "base_uri": "https://localhost:8080/"
        },
        "id": "miNBLaVc0J9B",
        "outputId": "67f1e000-26c0-4eaf-e766-118e79a68de7"
      },
      "execution_count": null,
      "outputs": [
        {
          "output_type": "stream",
          "name": "stdout",
          "text": [
            "5\n",
            "array([[15, 75],\n",
            "       [12, 78]])\n",
            "8\n",
            "array([[18, 75],\n",
            "       [25, 46]])\n",
            "5\n",
            "array([[15, 75],\n",
            "       [12, 78]])\n"
          ]
        }
      ]
    },
    {
      "cell_type": "code",
      "source": [
        "# Criando um vetor\n",
        "vec = np.array([1, 2, 3, 4, 5])\n",
        "print(repr(vec))"
      ],
      "metadata": {
        "colab": {
          "base_uri": "https://localhost:8080/"
        },
        "id": "5JSi43IZ0NSy",
        "outputId": "b46b8930-8d42-4a77-9d05-b193d9c2b788"
      },
      "execution_count": null,
      "outputs": [
        {
          "output_type": "stream",
          "name": "stdout",
          "text": [
            "array([1, 2, 3, 4, 5])\n"
          ]
        }
      ]
    },
    {
      "cell_type": "code",
      "source": [
        "# Mudando a ordem aleatoriamente dos elementos do vetor (1)\n",
        "np.random.shuffle(vec)\n",
        "print(repr(vec))"
      ],
      "metadata": {
        "colab": {
          "base_uri": "https://localhost:8080/"
        },
        "id": "Ck0FQDAD0v4x",
        "outputId": "227abbf0-9a3b-4f13-f13d-da260b64963f"
      },
      "execution_count": null,
      "outputs": [
        {
          "output_type": "stream",
          "name": "stdout",
          "text": [
            "array([3, 4, 2, 5, 1])\n"
          ]
        }
      ]
    },
    {
      "cell_type": "code",
      "source": [
        "# Mudando a ordem aleatoriamente dos elementos do vetor (2)\n",
        "np.random.shuffle(vec)\n",
        "print(repr(vec))"
      ],
      "metadata": {
        "colab": {
          "base_uri": "https://localhost:8080/"
        },
        "id": "SbdUepYQ0_up",
        "outputId": "24a9dd89-01e3-480b-a323-bd9bc2869269"
      },
      "execution_count": null,
      "outputs": [
        {
          "output_type": "stream",
          "name": "stdout",
          "text": [
            "array([2, 5, 3, 4, 1])\n"
          ]
        }
      ]
    },
    {
      "cell_type": "code",
      "source": [
        "# Gerando uma matriz\n",
        "matrix = np.array([[1, 2, 3],\n",
        "                   [4, 5, 6],\n",
        "                   [7, 8, 9]])\n",
        "\n",
        "# Aleatorizando os indices dos elementos da matriz\n",
        "np.random.shuffle(matrix)\n",
        "print(repr(matrix))"
      ],
      "metadata": {
        "colab": {
          "base_uri": "https://localhost:8080/"
        },
        "id": "6DqhNhVK1Mtb",
        "outputId": "a6bda4d8-4bff-40e1-e5d3-a50e31fa7051"
      },
      "execution_count": null,
      "outputs": [
        {
          "output_type": "stream",
          "name": "stdout",
          "text": [
            "array([[7, 8, 9],\n",
            "       [4, 5, 6],\n",
            "       [1, 2, 3]])\n"
          ]
        }
      ]
    },
    {
      "cell_type": "markdown",
      "source": [
        "# Distribuição"
      ],
      "metadata": {
        "id": "Ct3L10Nu1cFi"
      }
    },
    {
      "cell_type": "code",
      "source": [
        "# Distribuição Uniforme\n",
        "print(np.random.uniform())\n",
        "print(np.random.uniform(low=1.5, high=2.2))\n",
        "print(repr(np.random.uniform(size=3)))\n",
        "print(repr(np.random.uniform(low=3.4, high=5.9,\n",
        "                             size=(2,2))))"
      ],
      "metadata": {
        "id": "-hmk7xeu1acQ",
        "colab": {
          "base_uri": "https://localhost:8080/"
        },
        "outputId": "683800f4-6d06-4785-ea29-e3363e0b4cf8"
      },
      "execution_count": 24,
      "outputs": [
        {
          "output_type": "stream",
          "name": "stdout",
          "text": [
            "0.44345289377955666\n",
            "1.660704049610878\n",
            "array([0.53441391, 0.91396202, 0.45720481])\n",
            "array([[4.47674642, 5.74781947],\n",
            "       [5.34597309, 5.18992629]])\n"
          ]
        }
      ]
    },
    {
      "cell_type": "code",
      "source": [
        "# Distribuição Normal\n",
        "print(np.random.normal())\n",
        "print(np.random.normal(loc=1.5, scale=3.5))\n",
        "print(repr(np.random.normal(loc=2.4, scale=4.0,\n",
        "                            size=(2, 2))))"
      ],
      "metadata": {
        "colab": {
          "base_uri": "https://localhost:8080/"
        },
        "id": "2GbmSRZL2fCd",
        "outputId": "612fc2cf-8af2-4b22-8c68-c0ab7e8be2e5"
      },
      "execution_count": 25,
      "outputs": [
        {
          "output_type": "stream",
          "name": "stdout",
          "text": [
            "1.118296977299658\n",
            "1.6946461648546718\n",
            "array([[3.90662654, 3.90454009],\n",
            "       [1.74323692, 2.06182621]])\n"
          ]
        }
      ]
    },
    {
      "cell_type": "markdown",
      "source": [
        "# Custom sampling"
      ],
      "metadata": {
        "id": "oaMop0EV3EgP"
      }
    },
    {
      "cell_type": "code",
      "source": [
        "# Gerando uma lista de cores\n",
        "colors = ['red', 'blue', 'green']\n",
        "\n",
        "# Escolhando aleatoriamente uma cor\n",
        "print(np.random.choice(colors))\n",
        "\n",
        "print(repr(np.random.choice(colors, size=2)))\n",
        "print(repr(np.random.choice(colors, size=(2, 2),\n",
        "                            p=[0.8, 0.19, 0.01])))"
      ],
      "metadata": {
        "colab": {
          "base_uri": "https://localhost:8080/"
        },
        "id": "XeA9G6f427V2",
        "outputId": "5063c87d-83f8-4502-ecb8-202065075526"
      },
      "execution_count": 27,
      "outputs": [
        {
          "output_type": "stream",
          "name": "stdout",
          "text": [
            "red\n",
            "array(['green', 'green'], dtype='<U5')\n",
            "array([['blue', 'red'],\n",
            "       ['red', 'red']], dtype='<U5')\n"
          ]
        }
      ]
    },
    {
      "cell_type": "markdown",
      "source": [
        "# Exercícios\n"
      ],
      "metadata": {
        "id": "HuwLZ35w4BO8"
      }
    },
    {
      "cell_type": "markdown",
      "source": [
        "Exercício 1"
      ],
      "metadata": {
        "id": "25RclorF4wnT"
      }
    },
    {
      "cell_type": "code",
      "source": [
        "# Gerando um valor aleatorio\n",
        "random1 = np.random.randint(5)\n",
        "print(repr(random1))"
      ],
      "metadata": {
        "colab": {
          "base_uri": "https://localhost:8080/"
        },
        "id": "h7eAo67A3nM_",
        "outputId": "87455b1b-50fc-47f8-a08b-21c1f36a4803"
      },
      "execution_count": 30,
      "outputs": [
        {
          "output_type": "stream",
          "name": "stdout",
          "text": [
            "3\n"
          ]
        }
      ]
    },
    {
      "cell_type": "code",
      "source": [
        "# Gerando uma matriz de elementos aleatoria\n",
        "random_arr = np.random.randint(3, high=10, size=(3, 5))\n",
        "print(repr(random_arr))"
      ],
      "metadata": {
        "colab": {
          "base_uri": "https://localhost:8080/"
        },
        "id": "o0hscCzM4WoR",
        "outputId": "de478a71-fef4-402c-c224-8efd89e50943"
      },
      "execution_count": 31,
      "outputs": [
        {
          "output_type": "stream",
          "name": "stdout",
          "text": [
            "array([[9, 8, 7, 6, 8],\n",
            "       [4, 6, 9, 3, 3],\n",
            "       [5, 5, 4, 6, 7]])\n"
          ]
        }
      ]
    },
    {
      "cell_type": "markdown",
      "source": [
        "Exercício 2"
      ],
      "metadata": {
        "id": "BqA-q5nx4yXh"
      }
    },
    {
      "cell_type": "code",
      "source": [
        "# Gerando uma matriz de valores seguindo uma distribuição normal\n",
        "random_norm = np.random.normal(loc=2.0, scale=3.5, size=(10,5))\n",
        "print(repr(random_norm))"
      ],
      "metadata": {
        "colab": {
          "base_uri": "https://localhost:8080/"
        },
        "id": "vh9O9TQN4aRA",
        "outputId": "a6fb2bd3-06b9-4b1e-ff78-0a670c9b9096"
      },
      "execution_count": 34,
      "outputs": [
        {
          "output_type": "stream",
          "name": "stdout",
          "text": [
            "array([[ 4.80651361,  2.16298554,  1.3470058 ,  1.64388945,  5.04110155],\n",
            "       [ 4.62644074,  3.85312864,  2.48195423,  2.27237395,  4.16433092],\n",
            "       [ 2.81373096,  4.38892992,  0.91459129, -6.52193217,  5.63588611],\n",
            "       [ 9.65442876,  3.54477555,  1.64945668,  1.5224434 ,  1.58331034],\n",
            "       [ 2.06093293, -1.92706555,  0.1901694 , -1.4895939 ,  2.87079706],\n",
            "       [ 0.96175597,  3.73323963,  1.38853894,  5.45217316,  2.74736865],\n",
            "       [ 9.66744905, -4.63726323, -0.26420841,  5.15520412, 10.84913997],\n",
            "       [ 1.12977828,  2.15284148,  1.20790015,  6.66009989,  0.99442248],\n",
            "       [ 4.38024444,  0.8806944 , -2.45395564,  3.09741702,  3.76114685],\n",
            "       [ 6.52629059,  1.61343541, -0.16076722,  3.96966384,  2.84257982]])\n"
          ]
        }
      ]
    },
    {
      "cell_type": "markdown",
      "source": [
        "Exercício 3"
      ],
      "metadata": {
        "id": "1YHP1t4i5O9D"
      }
    },
    {
      "cell_type": "code",
      "source": [
        "choices = ['a', 'b', 'c', 'd']\n",
        "choice = np.random.choice(choices, p=[0.5, 0.1, 0.2, 0.2])"
      ],
      "metadata": {
        "id": "C11VhTlL4_L9"
      },
      "execution_count": 36,
      "outputs": []
    },
    {
      "cell_type": "markdown",
      "source": [
        "Exercício 4"
      ],
      "metadata": {
        "id": "VuwLhjTv5yCa"
      }
    },
    {
      "cell_type": "code",
      "source": [
        "# Gerando o vetor\n",
        "arr = np.array([1, 2, 3, 4, 5])\n",
        "print(repr(arr))"
      ],
      "metadata": {
        "colab": {
          "base_uri": "https://localhost:8080/"
        },
        "id": "sLiPHPnP5t8u",
        "outputId": "63900127-c15c-4278-b249-e8749e76d7da"
      },
      "execution_count": 48,
      "outputs": [
        {
          "output_type": "stream",
          "name": "stdout",
          "text": [
            "array([1, 2, 3, 4, 5])\n"
          ]
        }
      ]
    },
    {
      "cell_type": "code",
      "source": [
        "# Aleatorizando os elementos dos vetores\n",
        "np.random.shuffle(arr)"
      ],
      "metadata": {
        "id": "t4djtdkf54RN"
      },
      "execution_count": 49,
      "outputs": []
    },
    {
      "cell_type": "code",
      "source": [
        ""
      ],
      "metadata": {
        "id": "t-aCwn6e6Kny"
      },
      "execution_count": null,
      "outputs": []
    }
  ]
}