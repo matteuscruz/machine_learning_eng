{
  "nbformat": 4,
  "nbformat_minor": 0,
  "metadata": {
    "colab": {
      "name": "Indexing.ipynb",
      "provenance": []
    },
    "kernelspec": {
      "name": "python3",
      "display_name": "Python 3"
    },
    "language_info": {
      "name": "python"
    }
  },
  "cells": [
    {
      "cell_type": "markdown",
      "source": [
        "## Acessando elementos dentro da matrix"
      ],
      "metadata": {
        "id": "rtiyePujIfbQ"
      }
    },
    {
      "cell_type": "code",
      "execution_count": 3,
      "metadata": {
        "id": "X864V9TgH-aG"
      },
      "outputs": [],
      "source": [
        "import numpy as np"
      ]
    },
    {
      "cell_type": "code",
      "source": [
        "# Criando um vetor com a biblioteca numpy\n",
        "arr = np.array([1,2,3,4,5])"
      ],
      "metadata": {
        "id": "ub5b8E6NICPJ"
      },
      "execution_count": null,
      "outputs": []
    },
    {
      "cell_type": "code",
      "source": [
        "# Acessando elementos dentro do vetor\n",
        "print(arr[0])"
      ],
      "metadata": {
        "colab": {
          "base_uri": "https://localhost:8080/"
        },
        "id": "3xDWeSA_IIpo",
        "outputId": "3089ba52-babe-4774-8052-2e7ff4c6a7c3"
      },
      "execution_count": null,
      "outputs": [
        {
          "output_type": "stream",
          "name": "stdout",
          "text": [
            "1\n"
          ]
        }
      ]
    },
    {
      "cell_type": "code",
      "source": [
        "# Criando outro vetor com a biblioteca numpy\n",
        "arr = np.array([[6, 3], [0, 2]])"
      ],
      "metadata": {
        "id": "2G24todTIPCy"
      },
      "execution_count": null,
      "outputs": []
    },
    {
      "cell_type": "code",
      "source": [
        "# Acessando elementos dentro do vetor\n",
        "print(arr[0])"
      ],
      "metadata": {
        "colab": {
          "base_uri": "https://localhost:8080/"
        },
        "id": "K3ZczY0MIYrX",
        "outputId": "954a7ee7-d6ec-40aa-f1c5-f29a328f6e8f"
      },
      "execution_count": null,
      "outputs": [
        {
          "output_type": "stream",
          "name": "stdout",
          "text": [
            "[6 3]\n"
          ]
        }
      ]
    },
    {
      "cell_type": "markdown",
      "source": [
        "## Fatiamento"
      ],
      "metadata": {
        "id": "TlYkEZFtIk7L"
      }
    },
    {
      "cell_type": "code",
      "source": [
        "# Criando a matriz com a bilioteca numpy\n",
        "arr = np.array([1,2,3,4,5])"
      ],
      "metadata": {
        "id": "KHU4sXEBIcxx"
      },
      "execution_count": null,
      "outputs": []
    },
    {
      "cell_type": "code",
      "source": [
        "# Imprimindo a parte fatiada do vetor\n",
        "print(repr(arr[:]))"
      ],
      "metadata": {
        "colab": {
          "base_uri": "https://localhost:8080/"
        },
        "id": "7iyKS3t_IxPB",
        "outputId": "464825c2-8d41-4259-ac7d-013e79a00e8d"
      },
      "execution_count": null,
      "outputs": [
        {
          "output_type": "stream",
          "name": "stdout",
          "text": [
            "array([1, 2, 3, 4, 5])\n"
          ]
        }
      ]
    },
    {
      "cell_type": "code",
      "source": [
        "# Imprimindo a parte fatiada do vetor\n",
        "print(repr(arr[1:]))"
      ],
      "metadata": {
        "colab": {
          "base_uri": "https://localhost:8080/"
        },
        "id": "k8QnmUGzQKNa",
        "outputId": "0b54d74e-67b9-4e8f-d441-e8fa6ce11326"
      },
      "execution_count": null,
      "outputs": [
        {
          "output_type": "stream",
          "name": "stdout",
          "text": [
            "array([2, 3, 4, 5])\n"
          ]
        }
      ]
    },
    {
      "cell_type": "code",
      "source": [
        "# Imprimindo a parte fatiada do vetor\n",
        "print(repr(arr[2:4]))"
      ],
      "metadata": {
        "colab": {
          "base_uri": "https://localhost:8080/"
        },
        "id": "lpRUb0z6QOgF",
        "outputId": "e1edb1eb-8693-4a98-d7b1-25016e03101d"
      },
      "execution_count": null,
      "outputs": [
        {
          "output_type": "stream",
          "name": "stdout",
          "text": [
            "array([3, 4])\n"
          ]
        }
      ]
    },
    {
      "cell_type": "code",
      "source": [
        "# Imprimindo a parte fatiada do vetor\n",
        "print(repr(arr[:-1]))"
      ],
      "metadata": {
        "colab": {
          "base_uri": "https://localhost:8080/"
        },
        "id": "-y067cdnQsjw",
        "outputId": "6915709c-bed6-4ac0-8a73-1a3c1f28f855"
      },
      "execution_count": null,
      "outputs": [
        {
          "output_type": "stream",
          "name": "stdout",
          "text": [
            "array([1, 2, 3, 4])\n"
          ]
        }
      ]
    },
    {
      "cell_type": "code",
      "source": [
        "# Imprimindo a parte fatiada do vetor\n",
        "print(repr(arr[-2:]))"
      ],
      "metadata": {
        "colab": {
          "base_uri": "https://localhost:8080/"
        },
        "id": "RsjpuDziQyIl",
        "outputId": "bcb2dd30-426d-49f6-9181-6ad692dd85ce"
      },
      "execution_count": null,
      "outputs": [
        {
          "output_type": "stream",
          "name": "stdout",
          "text": [
            "array([4, 5])\n"
          ]
        }
      ]
    },
    {
      "cell_type": "code",
      "source": [
        "# Criando uma matriz com a biblioteca numpy\n",
        "arr = np.array([[1, 2, 3],\n",
        "               [4, 5, 6],\n",
        "               [7, 8, 9]])"
      ],
      "metadata": {
        "id": "zhGxIdADQ5_R"
      },
      "execution_count": null,
      "outputs": []
    },
    {
      "cell_type": "code",
      "source": [
        "print(repr(arr[:]))\n",
        "print(repr(arr[1:]))\n",
        "print(repr(arr[:, -1]))\n",
        "print(repr(arr[:, 1:]))\n",
        "print(repr(arr[0:1, 1:]))\n",
        "print(repr(arr[0, 1:]))"
      ],
      "metadata": {
        "colab": {
          "base_uri": "https://localhost:8080/"
        },
        "id": "MCob8xoPRZLx",
        "outputId": "22dd74b7-08bf-49af-c9b3-966aa398225b"
      },
      "execution_count": null,
      "outputs": [
        {
          "output_type": "stream",
          "name": "stdout",
          "text": [
            "array([[1, 2, 3],\n",
            "       [4, 5, 6],\n",
            "       [7, 8, 9]])\n",
            "array([[4, 5, 6],\n",
            "       [7, 8, 9]])\n",
            "array([3, 6, 9])\n",
            "array([[2, 3],\n",
            "       [5, 6],\n",
            "       [8, 9]])\n",
            "array([[2, 3]])\n",
            "array([2, 3])\n"
          ]
        }
      ]
    },
    {
      "cell_type": "markdown",
      "source": [
        "## Comandos Argmin and argmax"
      ],
      "metadata": {
        "id": "RZWA8RnRSzrs"
      }
    },
    {
      "cell_type": "code",
      "source": [
        "# Criando uma matriz \n",
        "arr = np.array([[-2, -1, -3],\n",
        "                [4, 5, -6],\n",
        "                [-3, 9, 1]])"
      ],
      "metadata": {
        "id": "GGAWqnauSxza"
      },
      "execution_count": 4,
      "outputs": []
    },
    {
      "cell_type": "code",
      "source": [
        "print(np.argmin(arr[0]))\n",
        "print(np.argmax(arr[1]))\n",
        "print(np.argmin(arr))"
      ],
      "metadata": {
        "colab": {
          "base_uri": "https://localhost:8080/"
        },
        "id": "CsRXZDYhPBg-",
        "outputId": "2ebc844c-aa09-48b5-eef7-e954aae06199"
      },
      "execution_count": 7,
      "outputs": [
        {
          "output_type": "stream",
          "name": "stdout",
          "text": [
            "2\n",
            "1\n",
            "5\n"
          ]
        }
      ]
    },
    {
      "cell_type": "code",
      "source": [
        "print(repr(np.argmin(arr, axis=0)))\n",
        "print(repr(np.argmin(arr, axis=1)))\n",
        "print(repr(np.argmax(arr, axis=-1)))"
      ],
      "metadata": {
        "colab": {
          "base_uri": "https://localhost:8080/"
        },
        "id": "YFz2G2HMPw6T",
        "outputId": "3231ac0e-384f-4dde-eba6-307625e65ddc"
      },
      "execution_count": 8,
      "outputs": [
        {
          "output_type": "stream",
          "name": "stdout",
          "text": [
            "array([2, 0, 1])\n",
            "array([2, 2, 0])\n",
            "array([1, 1, 1])\n"
          ]
        }
      ]
    },
    {
      "cell_type": "markdown",
      "source": [
        "## Let`s Code! \n"
      ],
      "metadata": {
        "id": "IniL4qPtjVMs"
      }
    },
    {
      "cell_type": "markdown",
      "source": [
        "Set elem equal to the third element of the second row in data (remember that the first row is index 0). Then return elem."
      ],
      "metadata": {
        "id": "FdCWXr_CkhOX"
      }
    },
    {
      "cell_type": "code",
      "source": [
        "def direct_index(data):\n",
        "  elem = data[1][2]\n",
        "  return elem"
      ],
      "metadata": {
        "id": "WXBMrWU1jYIO"
      },
      "execution_count": 9,
      "outputs": []
    },
    {
      "cell_type": "code",
      "source": [
        "def slice_data(data):\n",
        "  slice1 = data[:, 1:]\n",
        "  slice2 = data[0:3, :-2]\n",
        "  return slice1, slice2"
      ],
      "metadata": {
        "id": "-xgVgINfP_4a"
      },
      "execution_count": 10,
      "outputs": []
    },
    {
      "cell_type": "code",
      "source": [
        "def argmin_data(data):\n",
        "  argmin_all = np.argmin(data)\n",
        "  argmin1 = np.argmin(data, axis=1)\n",
        "  return argmin_all, argmin1"
      ],
      "metadata": {
        "id": "xIS7EJY3QCc_"
      },
      "execution_count": 11,
      "outputs": []
    },
    {
      "cell_type": "code",
      "source": [
        "def argmax_data(data):\n",
        "  argmax_neg1 = np.argmax(data, axis=-1)\n",
        "  return argmax_neg1"
      ],
      "metadata": {
        "id": "wPQuMxnFQFfF"
      },
      "execution_count": 12,
      "outputs": []
    },
    {
      "cell_type": "code",
      "source": [
        ""
      ],
      "metadata": {
        "id": "DJUR_DStQHbT"
      },
      "execution_count": null,
      "outputs": []
    }
  ]
}