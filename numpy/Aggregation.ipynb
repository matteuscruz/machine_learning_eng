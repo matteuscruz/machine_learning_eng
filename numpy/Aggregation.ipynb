{
  "nbformat": 4,
  "nbformat_minor": 0,
  "metadata": {
    "colab": {
      "name": "Aggregation.ipynb",
      "provenance": []
    },
    "kernelspec": {
      "name": "python3",
      "display_name": "Python 3"
    },
    "language_info": {
      "name": "python"
    }
  },
  "cells": [
    {
      "cell_type": "code",
      "execution_count": 1,
      "metadata": {
        "id": "VVgWMJZ3OpCV"
      },
      "outputs": [],
      "source": [
        "# Importando a biblioteca\n",
        "import numpy as np"
      ]
    },
    {
      "cell_type": "markdown",
      "source": [
        "## Summation"
      ],
      "metadata": {
        "id": "cLXNdaSnOxSx"
      }
    },
    {
      "cell_type": "code",
      "source": [
        "# Criando a matriz\n",
        "arr = np.array([[0, 72, 3],\n",
        "                [1, 3, -60],\n",
        "                [-3, -2, 4]])"
      ],
      "metadata": {
        "id": "uC-5T1eaOt_-"
      },
      "execution_count": 7,
      "outputs": []
    },
    {
      "cell_type": "code",
      "source": [
        "# Imprimindo a soma dos elementos da matriz\n",
        "print(np.sum(arr))"
      ],
      "metadata": {
        "colab": {
          "base_uri": "https://localhost:8080/"
        },
        "id": "nyPfDG-tOvWa",
        "outputId": "de26a396-3cb9-4a29-8757-b8a2c4c4fc24"
      },
      "execution_count": 8,
      "outputs": [
        {
          "output_type": "stream",
          "name": "stdout",
          "text": [
            "18\n"
          ]
        }
      ]
    },
    {
      "cell_type": "code",
      "source": [
        "# Imprimindo a soma dos elementos no eixo 0\n",
        "print(repr(np.sum(arr, axis = 0)))"
      ],
      "metadata": {
        "colab": {
          "base_uri": "https://localhost:8080/"
        },
        "id": "-jRJ-91XO9hb",
        "outputId": "6a4aaa97-a19d-4794-b102-6d78b9f97466"
      },
      "execution_count": 10,
      "outputs": [
        {
          "output_type": "stream",
          "name": "stdout",
          "text": [
            "array([ -2,  73, -53])\n"
          ]
        }
      ]
    },
    {
      "cell_type": "code",
      "source": [
        "# Imprimindo a soma dos elementos no eixo 1 \n",
        "print(repr(np.sum(arr, axis = 1)))"
      ],
      "metadata": {
        "colab": {
          "base_uri": "https://localhost:8080/"
        },
        "id": "oMU9BWh-PI1L",
        "outputId": "adfc1695-bf16-4ccd-ab58-16b018001039"
      },
      "execution_count": 11,
      "outputs": [
        {
          "output_type": "stream",
          "name": "stdout",
          "text": [
            "array([ 75, -56,  -1])\n"
          ]
        }
      ]
    },
    {
      "cell_type": "code",
      "source": [
        "# Imprimindo a soma acomulada dos elementos da matriz\n",
        "print(repr(np.cumsum(arr)))"
      ],
      "metadata": {
        "colab": {
          "base_uri": "https://localhost:8080/"
        },
        "id": "8f8l1GjYPUDb",
        "outputId": "b77d3068-5a0b-478b-db7a-e1ec91f9633d"
      },
      "execution_count": 13,
      "outputs": [
        {
          "output_type": "stream",
          "name": "stdout",
          "text": [
            "array([ 0, 72, 75, 76, 79, 19, 16, 14, 18])\n"
          ]
        }
      ]
    },
    {
      "cell_type": "code",
      "source": [
        "# Imprimindo a soma acomulada dos elementos da matriz no eixo 0\n",
        "print(repr(np.cumsum(arr, axis=0)))"
      ],
      "metadata": {
        "colab": {
          "base_uri": "https://localhost:8080/"
        },
        "id": "QXLAiUPLPYxj",
        "outputId": "b3cbdd09-22f1-40ad-a0e3-a448de44470f"
      },
      "execution_count": 16,
      "outputs": [
        {
          "output_type": "stream",
          "name": "stdout",
          "text": [
            "array([[  0,  72,   3],\n",
            "       [  1,  75, -57],\n",
            "       [ -2,  73, -53]])\n"
          ]
        }
      ]
    },
    {
      "cell_type": "code",
      "source": [
        "# Imprimindo a soma acomulada dos elementos da matriz no eixo 1\n",
        "print(repr(np.cumsum(arr, axis=1)))"
      ],
      "metadata": {
        "colab": {
          "base_uri": "https://localhost:8080/"
        },
        "id": "KHUAE81MPivo",
        "outputId": "a097edea-d32e-487d-826c-8c48d71d18ab"
      },
      "execution_count": 15,
      "outputs": [
        {
          "output_type": "stream",
          "name": "stdout",
          "text": [
            "array([[  0,  72,  75],\n",
            "       [  1,   4, -56],\n",
            "       [ -3,  -5,  -1]])\n"
          ]
        }
      ]
    },
    {
      "cell_type": "markdown",
      "source": [
        "## Concatenation"
      ],
      "metadata": {
        "id": "oXKgK6f0P4kz"
      }
    },
    {
      "cell_type": "code",
      "source": [
        "arr1 = np.array([[0, 72, 3],\n",
        "                 [1, 3, -60],\n",
        "                 [-3, -2, 4]])"
      ],
      "metadata": {
        "id": "_hxwDrLGPnO4"
      },
      "execution_count": 17,
      "outputs": []
    },
    {
      "cell_type": "code",
      "source": [
        "arr2 = np.array([[-15, 6, 1],\n",
        "                 [8, 9, -4],\n",
        "                 [5, -21, 18]])"
      ],
      "metadata": {
        "id": "_eFzQ5NFP7ue"
      },
      "execution_count": 18,
      "outputs": []
    },
    {
      "cell_type": "code",
      "source": [
        "# Imprimundo a concatenação das duas matrizes\n",
        "print(repr(np.concatenate([arr1, arr2])))"
      ],
      "metadata": {
        "colab": {
          "base_uri": "https://localhost:8080/"
        },
        "id": "LN-ZYJ9qP9Jf",
        "outputId": "a44c41e6-28c0-4498-b47e-a1074ec73752"
      },
      "execution_count": 19,
      "outputs": [
        {
          "output_type": "stream",
          "name": "stdout",
          "text": [
            "array([[  0,  72,   3],\n",
            "       [  1,   3, -60],\n",
            "       [ -3,  -2,   4],\n",
            "       [-15,   6,   1],\n",
            "       [  8,   9,  -4],\n",
            "       [  5, -21,  18]])\n"
          ]
        }
      ]
    },
    {
      "cell_type": "code",
      "source": [
        "# Imprimindo a concatenação das duas matrizes no eixo 0\n",
        "print(repr(np.concatenate([arr1, arr2], axis=0)))"
      ],
      "metadata": {
        "colab": {
          "base_uri": "https://localhost:8080/"
        },
        "id": "qse2gOMuQFO5",
        "outputId": "8abd5b07-9590-429f-83b3-7a35d084d8ca"
      },
      "execution_count": 21,
      "outputs": [
        {
          "output_type": "stream",
          "name": "stdout",
          "text": [
            "array([[  0,  72,   3],\n",
            "       [  1,   3, -60],\n",
            "       [ -3,  -2,   4],\n",
            "       [-15,   6,   1],\n",
            "       [  8,   9,  -4],\n",
            "       [  5, -21,  18]])\n"
          ]
        }
      ]
    },
    {
      "cell_type": "code",
      "source": [
        "# Imprimindo a concatenação das duas matrizes no eixo 0\n",
        "print(repr(np.concatenate([arr1, arr2], axis=1)))"
      ],
      "metadata": {
        "colab": {
          "base_uri": "https://localhost:8080/"
        },
        "id": "YEWLL2h3QRKW",
        "outputId": "f8f1d99a-0bab-48e4-87de-bd0e7e9f56e7"
      },
      "execution_count": 22,
      "outputs": [
        {
          "output_type": "stream",
          "name": "stdout",
          "text": [
            "array([[  0,  72,   3, -15,   6,   1],\n",
            "       [  1,   3, -60,   8,   9,  -4],\n",
            "       [ -3,  -2,   4,   5, -21,  18]])\n"
          ]
        }
      ]
    },
    {
      "cell_type": "markdown",
      "source": [
        "## Time to code"
      ],
      "metadata": {
        "id": "FfHbaK3wQYl9"
      }
    },
    {
      "cell_type": "code",
      "source": [
        "def get_sums(data):\n",
        "  total_sum = np.sum(data)\n",
        "  col_sum = np.sum(data, axis=0)\n",
        "  return total_sum, col_sum"
      ],
      "metadata": {
        "id": "pa3Hug1FQV9L"
      },
      "execution_count": 23,
      "outputs": []
    },
    {
      "cell_type": "code",
      "source": [
        "def get_cumsum(data):\n",
        "  row_cumsum = np.cumsum(data, axis=1)\n",
        "  return row_cumsum"
      ],
      "metadata": {
        "id": "UOgWTvZ6Ro4v"
      },
      "execution_count": null,
      "outputs": []
    },
    {
      "cell_type": "code",
      "source": [
        "def concat_arrays(data1, data2):\n",
        "  col_concat = np.concatenate([data1, data2], axis=0)\n",
        "  row_concat = np.concatenate([data1, data2], axis=1)\n",
        "  return col_concat, row_concat"
      ],
      "metadata": {
        "id": "YxOMM0fYRJ88"
      },
      "execution_count": 24,
      "outputs": []
    }
  ]
}