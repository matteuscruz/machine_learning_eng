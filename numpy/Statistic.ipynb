{
  "nbformat": 4,
  "nbformat_minor": 0,
  "metadata": {
    "colab": {
      "name": "Statistic.ipynb",
      "provenance": []
    },
    "kernelspec": {
      "name": "python3",
      "display_name": "Python 3"
    },
    "language_info": {
      "name": "python"
    }
  },
  "cells": [
    {
      "cell_type": "code",
      "source": [
        "import numpy as np"
      ],
      "metadata": {
        "id": "S8v-N-SJM7Co"
      },
      "execution_count": 3,
      "outputs": []
    },
    {
      "cell_type": "markdown",
      "source": [
        "## Analysis"
      ],
      "metadata": {
        "id": "RE1c9nepL52l"
      }
    },
    {
      "cell_type": "code",
      "execution_count": 4,
      "metadata": {
        "id": "Q9K9WCMML5M8"
      },
      "outputs": [],
      "source": [
        "# Criando a matriz\n",
        "arr = np.array([[0, 72, 3],\n",
        "                [1, 3, -60],\n",
        "                [-3, -2, 4]])"
      ]
    },
    {
      "cell_type": "code",
      "source": [
        "# Imprimindo o menor valor presente na matriz\n",
        "print(arr.min())"
      ],
      "metadata": {
        "colab": {
          "base_uri": "https://localhost:8080/"
        },
        "id": "2kK_7zEMM4S2",
        "outputId": "756c5ce2-1c7d-4e09-cb6b-11bc67827356"
      },
      "execution_count": 5,
      "outputs": [
        {
          "output_type": "stream",
          "name": "stdout",
          "text": [
            "-60\n"
          ]
        }
      ]
    },
    {
      "cell_type": "code",
      "source": [
        "# Imprimindo o maior valor presente na matriz\n",
        "print(arr.max())"
      ],
      "metadata": {
        "colab": {
          "base_uri": "https://localhost:8080/"
        },
        "id": "r75nKtUoM6oC",
        "outputId": "d89ba623-716e-4fa4-a1bf-a6befa0ac152"
      },
      "execution_count": 7,
      "outputs": [
        {
          "output_type": "stream",
          "name": "stdout",
          "text": [
            "72\n"
          ]
        }
      ]
    },
    {
      "cell_type": "code",
      "source": [
        "print(repr(arr.min(axis=0)))"
      ],
      "metadata": {
        "colab": {
          "base_uri": "https://localhost:8080/"
        },
        "id": "IDhx26wzM-sc",
        "outputId": "84a20a6e-1cea-4288-f64d-346dc729f515"
      },
      "execution_count": 8,
      "outputs": [
        {
          "output_type": "stream",
          "name": "stdout",
          "text": [
            "array([ -3,  -2, -60])\n"
          ]
        }
      ]
    },
    {
      "cell_type": "code",
      "source": [
        "print(repr(arr.max(axis=-1)))"
      ],
      "metadata": {
        "colab": {
          "base_uri": "https://localhost:8080/"
        },
        "id": "P0K8lNEgNKWg",
        "outputId": "83546c6b-ea20-4a8a-bbbe-ca368d3ef2b1"
      },
      "execution_count": 9,
      "outputs": [
        {
          "output_type": "stream",
          "name": "stdout",
          "text": [
            "array([72,  3,  4])\n"
          ]
        }
      ]
    },
    {
      "cell_type": "markdown",
      "source": [
        "## Statistical metrics"
      ],
      "metadata": {
        "id": "nCdv2jooNQOY"
      }
    },
    {
      "cell_type": "code",
      "source": [
        "# Imprimindo a média\n",
        "print(np.mean(arr))"
      ],
      "metadata": {
        "colab": {
          "base_uri": "https://localhost:8080/"
        },
        "id": "fmiY92CSNLMg",
        "outputId": "24d3a879-731c-421b-dbd8-1009ff3f60d0"
      },
      "execution_count": 14,
      "outputs": [
        {
          "output_type": "stream",
          "name": "stdout",
          "text": [
            "2.0\n"
          ]
        }
      ]
    },
    {
      "cell_type": "code",
      "source": [
        "# Imprimindo a variância\n",
        "print(np.var(arr))"
      ],
      "metadata": {
        "colab": {
          "base_uri": "https://localhost:8080/"
        },
        "id": "hcbfhat2NUT1",
        "outputId": "3f770a8c-fd2d-47b4-f6dd-2e1174e1860f"
      },
      "execution_count": 15,
      "outputs": [
        {
          "output_type": "stream",
          "name": "stdout",
          "text": [
            "977.3333333333334\n"
          ]
        }
      ]
    },
    {
      "cell_type": "code",
      "source": [
        "# Imprimindo a mediana\n",
        "print(np.median(arr))"
      ],
      "metadata": {
        "colab": {
          "base_uri": "https://localhost:8080/"
        },
        "id": "wCzIXCjHNVNc",
        "outputId": "1cc244e6-cbe6-4a88-d3b5-c4bc1a513cfa"
      },
      "execution_count": 16,
      "outputs": [
        {
          "output_type": "stream",
          "name": "stdout",
          "text": [
            "1.0\n"
          ]
        }
      ]
    },
    {
      "cell_type": "code",
      "source": [
        "print(repr(np.median(arr, axis=-1)))"
      ],
      "metadata": {
        "colab": {
          "base_uri": "https://localhost:8080/"
        },
        "id": "_-mlKysaNWMB",
        "outputId": "8cef4388-22c6-40c1-b0c7-33e3780b16fd"
      },
      "execution_count": 17,
      "outputs": [
        {
          "output_type": "stream",
          "name": "stdout",
          "text": [
            "array([ 3.,  1., -2.])\n"
          ]
        }
      ]
    },
    {
      "cell_type": "markdown",
      "source": [
        "## Time to Code!#\n"
      ],
      "metadata": {
        "id": "wZO_PFgoNkg6"
      }
    },
    {
      "cell_type": "code",
      "source": [
        "def get_min_max(data):\n",
        "  overall_min = data.min()\n",
        "  overall_max = data.max()\n",
        "  return overall_min, overall_max"
      ],
      "metadata": {
        "id": "KBq9DDQyNjTZ"
      },
      "execution_count": 18,
      "outputs": []
    },
    {
      "cell_type": "code",
      "source": [
        "def col_min(data):\n",
        "  min0 = data.min(axis=0)\n",
        "  return min0"
      ],
      "metadata": {
        "id": "_TcgtlTnNxTJ"
      },
      "execution_count": 19,
      "outputs": []
    },
    {
      "cell_type": "code",
      "source": [
        "def basic_stats(data):\n",
        "  mean = np.mean(data)\n",
        "  median = np.median(data)\n",
        "  var = np.var(data)\n",
        "  return mean, median, var"
      ],
      "metadata": {
        "id": "QB5j8sroN_od"
      },
      "execution_count": 20,
      "outputs": []
    },
    {
      "cell_type": "code",
      "source": [
        ""
      ],
      "metadata": {
        "id": "HpqNqnuWOKYS"
      },
      "execution_count": null,
      "outputs": []
    }
  ]
}